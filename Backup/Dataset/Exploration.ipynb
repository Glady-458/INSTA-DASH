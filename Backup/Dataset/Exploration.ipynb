{
 "cells": [
  {
   "cell_type": "code",
   "execution_count": 1,
   "metadata": {},
   "outputs": [],
   "source": [
    "import numpy as np\n",
    "import pandas as pd\n",
    "import matplotlib.pyplot as plt\n",
    "import seaborn as sns"
   ]
  },
  {
   "cell_type": "code",
   "execution_count": 2,
   "metadata": {},
   "outputs": [],
   "source": [
    "data = pd.read_csv(\"dataset.csv\")\n",
    "data_common = pd.read_csv(\"kind.csv\")"
   ]
  },
  {
   "cell_type": "code",
   "execution_count": 3,
   "metadata": {},
   "outputs": [
    {
     "data": {
      "text/html": [
       "<div>\n",
       "<style scoped>\n",
       "    .dataframe tbody tr th:only-of-type {\n",
       "        vertical-align: middle;\n",
       "    }\n",
       "\n",
       "    .dataframe tbody tr th {\n",
       "        vertical-align: top;\n",
       "    }\n",
       "\n",
       "    .dataframe thead th {\n",
       "        text-align: right;\n",
       "    }\n",
       "</style>\n",
       "<table border=\"1\" class=\"dataframe\">\n",
       "  <thead>\n",
       "    <tr style=\"text-align: right;\">\n",
       "      <th></th>\n",
       "      <th>numberPosts</th>\n",
       "      <th>website</th>\n",
       "      <th>urlProfile</th>\n",
       "      <th>username</th>\n",
       "      <th>numberFollowing</th>\n",
       "      <th>descriptionProfile</th>\n",
       "      <th>alias</th>\n",
       "      <th>numberFollowers</th>\n",
       "      <th>urlImgProfile</th>\n",
       "      <th>filename</th>\n",
       "      <th>date</th>\n",
       "      <th>urlImage</th>\n",
       "      <th>mentions</th>\n",
       "      <th>multipleImage</th>\n",
       "      <th>isVideo</th>\n",
       "      <th>localization</th>\n",
       "      <th>tags</th>\n",
       "      <th>numberLikes</th>\n",
       "      <th>url</th>\n",
       "      <th>description</th>\n",
       "    </tr>\n",
       "  </thead>\n",
       "  <tbody>\n",
       "    <tr>\n",
       "      <th>0</th>\n",
       "      <td>988</td>\n",
       "      <td>www.sylviemeis.de</td>\n",
       "      <td>https://www.instagram.com/1misssmeis/</td>\n",
       "      <td>Sylvie Meis Official Account</td>\n",
       "      <td>233</td>\n",
       "      <td>TV Host Let's Dance for RTL Germany / SBS6 / P...</td>\n",
       "      <td>1misssmeis</td>\n",
       "      <td>720979</td>\n",
       "      <td>https://scontent.cdninstagram.com/t51.2885-19/...</td>\n",
       "      <td>18161288_472089323136061_5128727096486526976_n...</td>\n",
       "      <td>2017-04-29T05:00:00.000Z</td>\n",
       "      <td>https://scontent.cdninstagram.com/t51.2885-15/...</td>\n",
       "      <td>['@fraukeludowig_official', '@rtl_exclusiv', '...</td>\n",
       "      <td>False</td>\n",
       "      <td>False</td>\n",
       "      <td>NaN</td>\n",
       "      <td>['#exclusivspezial']</td>\n",
       "      <td>10047</td>\n",
       "      <td>https://www.instagram.com/p/BTdS7XgBe4X/?taken...</td>\n",
       "      <td>With my lovely colleague @fraukeludowig_offici...</td>\n",
       "    </tr>\n",
       "    <tr>\n",
       "      <th>1</th>\n",
       "      <td>988</td>\n",
       "      <td>www.sylviemeis.de</td>\n",
       "      <td>https://www.instagram.com/1misssmeis/</td>\n",
       "      <td>Sylvie Meis Official Account</td>\n",
       "      <td>233</td>\n",
       "      <td>TV Host Let's Dance for RTL Germany / SBS6 / P...</td>\n",
       "      <td>1misssmeis</td>\n",
       "      <td>720979</td>\n",
       "      <td>https://scontent.cdninstagram.com/t51.2885-19/...</td>\n",
       "      <td>18161312_678529115665252_1780327406628765696_n...</td>\n",
       "      <td>2017-04-29T05:00:00.000Z</td>\n",
       "      <td>https://scontent.cdninstagram.com/t51.2885-15/...</td>\n",
       "      <td>['@tine', '@rachelzoe', '@lecolook', '@letsdan...</td>\n",
       "      <td>False</td>\n",
       "      <td>False</td>\n",
       "      <td>NaN</td>\n",
       "      <td>['#jumpsuit', '#glam', '#ootn']</td>\n",
       "      <td>16781</td>\n",
       "      <td>https://www.instagram.com/p/BTdRaquBZTD/?taken...</td>\n",
       "      <td>My look last night, hosting Let's Dance! Style...</td>\n",
       "    </tr>\n",
       "    <tr>\n",
       "      <th>2</th>\n",
       "      <td>988</td>\n",
       "      <td>www.sylviemeis.de</td>\n",
       "      <td>https://www.instagram.com/1misssmeis/</td>\n",
       "      <td>Sylvie Meis Official Account</td>\n",
       "      <td>233</td>\n",
       "      <td>TV Host Let's Dance for RTL Germany / SBS6 / P...</td>\n",
       "      <td>1misssmeis</td>\n",
       "      <td>720979</td>\n",
       "      <td>https://scontent.cdninstagram.com/t51.2885-19/...</td>\n",
       "      <td>18096206_126240614590026_6106733145975947264_n...</td>\n",
       "      <td>2017-04-27T05:00:00.000Z</td>\n",
       "      <td>https://scontent.cdninstagram.com/t51.2885-15/...</td>\n",
       "      <td>['@letsdance', '@rtlde', '@rtlde', '@letsdance']</td>\n",
       "      <td>False</td>\n",
       "      <td>False</td>\n",
       "      <td>NaN</td>\n",
       "      <td>['#rehearsalday', '#behindthescenes']</td>\n",
       "      <td>11227</td>\n",
       "      <td>https://www.instagram.com/p/BTZXesPhDsB/?taken...</td>\n",
       "      <td>Calm before the 'glam' storm! 💋💄💅🏻💆🏼💇🏼Tomorrow...</td>\n",
       "    </tr>\n",
       "    <tr>\n",
       "      <th>3</th>\n",
       "      <td>988</td>\n",
       "      <td>www.sylviemeis.de</td>\n",
       "      <td>https://www.instagram.com/1misssmeis/</td>\n",
       "      <td>Sylvie Meis Official Account</td>\n",
       "      <td>233</td>\n",
       "      <td>TV Host Let's Dance for RTL Germany / SBS6 / P...</td>\n",
       "      <td>1misssmeis</td>\n",
       "      <td>720979</td>\n",
       "      <td>https://scontent.cdninstagram.com/t51.2885-19/...</td>\n",
       "      <td>18094963_1399253156802062_6673302163394920448_...</td>\n",
       "      <td>2017-04-24T05:00:00.000Z</td>\n",
       "      <td>https://scontent.cdninstagram.com/t51.2885-15/...</td>\n",
       "      <td>['@bydanienl', '@roland_mouret', '@casadeioffi...</td>\n",
       "      <td>False</td>\n",
       "      <td>False</td>\n",
       "      <td>NaN</td>\n",
       "      <td>['#dress', '#shoes', '#glam']</td>\n",
       "      <td>21539</td>\n",
       "      <td>https://www.instagram.com/p/BTRS6IOhz6J/?taken...</td>\n",
       "      <td>🌼Today's look for QVC.. styled by @bydanienl #...</td>\n",
       "    </tr>\n",
       "    <tr>\n",
       "      <th>4</th>\n",
       "      <td>988</td>\n",
       "      <td>www.sylviemeis.de</td>\n",
       "      <td>https://www.instagram.com/1misssmeis/</td>\n",
       "      <td>Sylvie Meis Official Account</td>\n",
       "      <td>233</td>\n",
       "      <td>TV Host Let's Dance for RTL Germany / SBS6 / P...</td>\n",
       "      <td>1misssmeis</td>\n",
       "      <td>720979</td>\n",
       "      <td>https://scontent.cdninstagram.com/t51.2885-19/...</td>\n",
       "      <td>18011499_901505923322739_4323762320120479744_n...</td>\n",
       "      <td>2017-04-22T05:00:00.000Z</td>\n",
       "      <td>https://scontent.cdninstagram.com/t51.2885-15/...</td>\n",
       "      <td>['@elisabettafranchi', '@serenagoldenbaum']</td>\n",
       "      <td>False</td>\n",
       "      <td>False</td>\n",
       "      <td>NaN</td>\n",
       "      <td>['#weekend', '#yay', '#happyweekend', '#kiss']</td>\n",
       "      <td>21054</td>\n",
       "      <td>https://www.instagram.com/p/BTLTV46BKDF/?taken...</td>\n",
       "      <td>💋Happy Weekend Lovelies ❤ #weekend #yay #happy...</td>\n",
       "    </tr>\n",
       "  </tbody>\n",
       "</table>\n",
       "</div>"
      ],
      "text/plain": [
       "   numberPosts            website                             urlProfile  \\\n",
       "0          988  www.sylviemeis.de  https://www.instagram.com/1misssmeis/   \n",
       "1          988  www.sylviemeis.de  https://www.instagram.com/1misssmeis/   \n",
       "2          988  www.sylviemeis.de  https://www.instagram.com/1misssmeis/   \n",
       "3          988  www.sylviemeis.de  https://www.instagram.com/1misssmeis/   \n",
       "4          988  www.sylviemeis.de  https://www.instagram.com/1misssmeis/   \n",
       "\n",
       "                       username  numberFollowing  \\\n",
       "0  Sylvie Meis Official Account              233   \n",
       "1  Sylvie Meis Official Account              233   \n",
       "2  Sylvie Meis Official Account              233   \n",
       "3  Sylvie Meis Official Account              233   \n",
       "4  Sylvie Meis Official Account              233   \n",
       "\n",
       "                                  descriptionProfile       alias  \\\n",
       "0  TV Host Let's Dance for RTL Germany / SBS6 / P...  1misssmeis   \n",
       "1  TV Host Let's Dance for RTL Germany / SBS6 / P...  1misssmeis   \n",
       "2  TV Host Let's Dance for RTL Germany / SBS6 / P...  1misssmeis   \n",
       "3  TV Host Let's Dance for RTL Germany / SBS6 / P...  1misssmeis   \n",
       "4  TV Host Let's Dance for RTL Germany / SBS6 / P...  1misssmeis   \n",
       "\n",
       "   numberFollowers                                      urlImgProfile  \\\n",
       "0           720979  https://scontent.cdninstagram.com/t51.2885-19/...   \n",
       "1           720979  https://scontent.cdninstagram.com/t51.2885-19/...   \n",
       "2           720979  https://scontent.cdninstagram.com/t51.2885-19/...   \n",
       "3           720979  https://scontent.cdninstagram.com/t51.2885-19/...   \n",
       "4           720979  https://scontent.cdninstagram.com/t51.2885-19/...   \n",
       "\n",
       "                                            filename  \\\n",
       "0  18161288_472089323136061_5128727096486526976_n...   \n",
       "1  18161312_678529115665252_1780327406628765696_n...   \n",
       "2  18096206_126240614590026_6106733145975947264_n...   \n",
       "3  18094963_1399253156802062_6673302163394920448_...   \n",
       "4  18011499_901505923322739_4323762320120479744_n...   \n",
       "\n",
       "                       date  \\\n",
       "0  2017-04-29T05:00:00.000Z   \n",
       "1  2017-04-29T05:00:00.000Z   \n",
       "2  2017-04-27T05:00:00.000Z   \n",
       "3  2017-04-24T05:00:00.000Z   \n",
       "4  2017-04-22T05:00:00.000Z   \n",
       "\n",
       "                                            urlImage  \\\n",
       "0  https://scontent.cdninstagram.com/t51.2885-15/...   \n",
       "1  https://scontent.cdninstagram.com/t51.2885-15/...   \n",
       "2  https://scontent.cdninstagram.com/t51.2885-15/...   \n",
       "3  https://scontent.cdninstagram.com/t51.2885-15/...   \n",
       "4  https://scontent.cdninstagram.com/t51.2885-15/...   \n",
       "\n",
       "                                            mentions  multipleImage  isVideo  \\\n",
       "0  ['@fraukeludowig_official', '@rtl_exclusiv', '...          False    False   \n",
       "1  ['@tine', '@rachelzoe', '@lecolook', '@letsdan...          False    False   \n",
       "2   ['@letsdance', '@rtlde', '@rtlde', '@letsdance']          False    False   \n",
       "3  ['@bydanienl', '@roland_mouret', '@casadeioffi...          False    False   \n",
       "4        ['@elisabettafranchi', '@serenagoldenbaum']          False    False   \n",
       "\n",
       "  localization                                            tags  numberLikes  \\\n",
       "0          NaN                            ['#exclusivspezial']        10047   \n",
       "1          NaN                 ['#jumpsuit', '#glam', '#ootn']        16781   \n",
       "2          NaN           ['#rehearsalday', '#behindthescenes']        11227   \n",
       "3          NaN                   ['#dress', '#shoes', '#glam']        21539   \n",
       "4          NaN  ['#weekend', '#yay', '#happyweekend', '#kiss']        21054   \n",
       "\n",
       "                                                 url  \\\n",
       "0  https://www.instagram.com/p/BTdS7XgBe4X/?taken...   \n",
       "1  https://www.instagram.com/p/BTdRaquBZTD/?taken...   \n",
       "2  https://www.instagram.com/p/BTZXesPhDsB/?taken...   \n",
       "3  https://www.instagram.com/p/BTRS6IOhz6J/?taken...   \n",
       "4  https://www.instagram.com/p/BTLTV46BKDF/?taken...   \n",
       "\n",
       "                                         description  \n",
       "0  With my lovely colleague @fraukeludowig_offici...  \n",
       "1  My look last night, hosting Let's Dance! Style...  \n",
       "2  Calm before the 'glam' storm! 💋💄💅🏻💆🏼💇🏼Tomorrow...  \n",
       "3  🌼Today's look for QVC.. styled by @bydanienl #...  \n",
       "4  💋Happy Weekend Lovelies ❤ #weekend #yay #happy...  "
      ]
     },
     "execution_count": 3,
     "metadata": {},
     "output_type": "execute_result"
    }
   ],
   "source": [
    "data.head()"
   ]
  },
  {
   "cell_type": "code",
   "execution_count": 4,
   "metadata": {},
   "outputs": [
    {
     "data": {
      "text/plain": [
       "Index(['numberPosts', 'website', 'urlProfile', 'username', 'numberFollowing',\n",
       "       'descriptionProfile', 'alias', 'numberFollowers', 'urlImgProfile',\n",
       "       'filename', 'date', 'urlImage', 'mentions', 'multipleImage', 'isVideo',\n",
       "       'localization', 'tags', 'numberLikes', 'url', 'description'],\n",
       "      dtype='object')"
      ]
     },
     "execution_count": 4,
     "metadata": {},
     "output_type": "execute_result"
    }
   ],
   "source": [
    "data.columns"
   ]
  },
  {
   "cell_type": "code",
   "execution_count": 5,
   "metadata": {
    "scrolled": true
   },
   "outputs": [
    {
     "data": {
      "text/html": [
       "<div>\n",
       "<style scoped>\n",
       "    .dataframe tbody tr th:only-of-type {\n",
       "        vertical-align: middle;\n",
       "    }\n",
       "\n",
       "    .dataframe tbody tr th {\n",
       "        vertical-align: top;\n",
       "    }\n",
       "\n",
       "    .dataframe thead th {\n",
       "        text-align: right;\n",
       "    }\n",
       "</style>\n",
       "<table border=\"1\" class=\"dataframe\">\n",
       "  <thead>\n",
       "    <tr style=\"text-align: right;\">\n",
       "      <th></th>\n",
       "      <th>date</th>\n",
       "      <th>username</th>\n",
       "      <th>numberPosts</th>\n",
       "      <th>numberFollowing</th>\n",
       "      <th>numberFollowers</th>\n",
       "      <th>numberLikes</th>\n",
       "      <th>isVideo</th>\n",
       "      <th>tags</th>\n",
       "    </tr>\n",
       "  </thead>\n",
       "  <tbody>\n",
       "    <tr>\n",
       "      <th>0</th>\n",
       "      <td>2017-04-29T05:00:00.000Z</td>\n",
       "      <td>Sylvie Meis Official Account</td>\n",
       "      <td>988</td>\n",
       "      <td>233</td>\n",
       "      <td>720979</td>\n",
       "      <td>10047</td>\n",
       "      <td>False</td>\n",
       "      <td>['#exclusivspezial']</td>\n",
       "    </tr>\n",
       "    <tr>\n",
       "      <th>1</th>\n",
       "      <td>2017-04-29T05:00:00.000Z</td>\n",
       "      <td>Sylvie Meis Official Account</td>\n",
       "      <td>988</td>\n",
       "      <td>233</td>\n",
       "      <td>720979</td>\n",
       "      <td>16781</td>\n",
       "      <td>False</td>\n",
       "      <td>['#jumpsuit', '#glam', '#ootn']</td>\n",
       "    </tr>\n",
       "    <tr>\n",
       "      <th>2</th>\n",
       "      <td>2017-04-27T05:00:00.000Z</td>\n",
       "      <td>Sylvie Meis Official Account</td>\n",
       "      <td>988</td>\n",
       "      <td>233</td>\n",
       "      <td>720979</td>\n",
       "      <td>11227</td>\n",
       "      <td>False</td>\n",
       "      <td>['#rehearsalday', '#behindthescenes']</td>\n",
       "    </tr>\n",
       "    <tr>\n",
       "      <th>3</th>\n",
       "      <td>2017-04-24T05:00:00.000Z</td>\n",
       "      <td>Sylvie Meis Official Account</td>\n",
       "      <td>988</td>\n",
       "      <td>233</td>\n",
       "      <td>720979</td>\n",
       "      <td>21539</td>\n",
       "      <td>False</td>\n",
       "      <td>['#dress', '#shoes', '#glam']</td>\n",
       "    </tr>\n",
       "    <tr>\n",
       "      <th>4</th>\n",
       "      <td>2017-04-22T05:00:00.000Z</td>\n",
       "      <td>Sylvie Meis Official Account</td>\n",
       "      <td>988</td>\n",
       "      <td>233</td>\n",
       "      <td>720979</td>\n",
       "      <td>21054</td>\n",
       "      <td>False</td>\n",
       "      <td>['#weekend', '#yay', '#happyweekend', '#kiss']</td>\n",
       "    </tr>\n",
       "    <tr>\n",
       "      <th>...</th>\n",
       "      <td>...</td>\n",
       "      <td>...</td>\n",
       "      <td>...</td>\n",
       "      <td>...</td>\n",
       "      <td>...</td>\n",
       "      <td>...</td>\n",
       "      <td>...</td>\n",
       "      <td>...</td>\n",
       "    </tr>\n",
       "    <tr>\n",
       "      <th>16534</th>\n",
       "      <td>2017-04-22T05:00:00.000Z</td>\n",
       "      <td>Елена Зё🌷</td>\n",
       "      <td>1982</td>\n",
       "      <td>0</td>\n",
       "      <td>162429</td>\n",
       "      <td>6463</td>\n",
       "      <td>False</td>\n",
       "      <td>[]</td>\n",
       "    </tr>\n",
       "    <tr>\n",
       "      <th>16535</th>\n",
       "      <td>2017-04-21T05:00:00.000Z</td>\n",
       "      <td>Елена Зё🌷</td>\n",
       "      <td>1982</td>\n",
       "      <td>0</td>\n",
       "      <td>162429</td>\n",
       "      <td>6519</td>\n",
       "      <td>False</td>\n",
       "      <td>[]</td>\n",
       "    </tr>\n",
       "    <tr>\n",
       "      <th>16536</th>\n",
       "      <td>2017-04-21T05:00:00.000Z</td>\n",
       "      <td>Елена Зё🌷</td>\n",
       "      <td>1982</td>\n",
       "      <td>0</td>\n",
       "      <td>162429</td>\n",
       "      <td>6474</td>\n",
       "      <td>False</td>\n",
       "      <td>[]</td>\n",
       "    </tr>\n",
       "    <tr>\n",
       "      <th>16537</th>\n",
       "      <td>2017-04-21T05:00:00.000Z</td>\n",
       "      <td>Елена Зё🌷</td>\n",
       "      <td>1982</td>\n",
       "      <td>0</td>\n",
       "      <td>162429</td>\n",
       "      <td>6195</td>\n",
       "      <td>False</td>\n",
       "      <td>[]</td>\n",
       "    </tr>\n",
       "    <tr>\n",
       "      <th>16538</th>\n",
       "      <td>2017-04-18T05:00:00.000Z</td>\n",
       "      <td>Елена Зё🌷</td>\n",
       "      <td>1982</td>\n",
       "      <td>0</td>\n",
       "      <td>162429</td>\n",
       "      <td>7082</td>\n",
       "      <td>False</td>\n",
       "      <td>[]</td>\n",
       "    </tr>\n",
       "  </tbody>\n",
       "</table>\n",
       "<p>16539 rows × 8 columns</p>\n",
       "</div>"
      ],
      "text/plain": [
       "                           date                      username  numberPosts  \\\n",
       "0      2017-04-29T05:00:00.000Z  Sylvie Meis Official Account          988   \n",
       "1      2017-04-29T05:00:00.000Z  Sylvie Meis Official Account          988   \n",
       "2      2017-04-27T05:00:00.000Z  Sylvie Meis Official Account          988   \n",
       "3      2017-04-24T05:00:00.000Z  Sylvie Meis Official Account          988   \n",
       "4      2017-04-22T05:00:00.000Z  Sylvie Meis Official Account          988   \n",
       "...                         ...                           ...          ...   \n",
       "16534  2017-04-22T05:00:00.000Z                     Елена Зё🌷         1982   \n",
       "16535  2017-04-21T05:00:00.000Z                     Елена Зё🌷         1982   \n",
       "16536  2017-04-21T05:00:00.000Z                     Елена Зё🌷         1982   \n",
       "16537  2017-04-21T05:00:00.000Z                     Елена Зё🌷         1982   \n",
       "16538  2017-04-18T05:00:00.000Z                     Елена Зё🌷         1982   \n",
       "\n",
       "       numberFollowing  numberFollowers  numberLikes  isVideo  \\\n",
       "0                  233           720979        10047    False   \n",
       "1                  233           720979        16781    False   \n",
       "2                  233           720979        11227    False   \n",
       "3                  233           720979        21539    False   \n",
       "4                  233           720979        21054    False   \n",
       "...                ...              ...          ...      ...   \n",
       "16534                0           162429         6463    False   \n",
       "16535                0           162429         6519    False   \n",
       "16536                0           162429         6474    False   \n",
       "16537                0           162429         6195    False   \n",
       "16538                0           162429         7082    False   \n",
       "\n",
       "                                                 tags  \n",
       "0                                ['#exclusivspezial']  \n",
       "1                     ['#jumpsuit', '#glam', '#ootn']  \n",
       "2               ['#rehearsalday', '#behindthescenes']  \n",
       "3                       ['#dress', '#shoes', '#glam']  \n",
       "4      ['#weekend', '#yay', '#happyweekend', '#kiss']  \n",
       "...                                               ...  \n",
       "16534                                              []  \n",
       "16535                                              []  \n",
       "16536                                              []  \n",
       "16537                                              []  \n",
       "16538                                              []  \n",
       "\n",
       "[16539 rows x 8 columns]"
      ]
     },
     "execution_count": 5,
     "metadata": {},
     "output_type": "execute_result"
    }
   ],
   "source": [
    "data1 = data[['date','username','numberPosts','numberFollowing','numberFollowers','numberLikes','isVideo','tags']]\n",
    "data1"
   ]
  },
  {
   "cell_type": "code",
   "execution_count": 6,
   "metadata": {},
   "outputs": [
    {
     "data": {
      "text/html": [
       "<div>\n",
       "<style scoped>\n",
       "    .dataframe tbody tr th:only-of-type {\n",
       "        vertical-align: middle;\n",
       "    }\n",
       "\n",
       "    .dataframe tbody tr th {\n",
       "        vertical-align: top;\n",
       "    }\n",
       "\n",
       "    .dataframe thead th {\n",
       "        text-align: right;\n",
       "    }\n",
       "</style>\n",
       "<table border=\"1\" class=\"dataframe\">\n",
       "  <thead>\n",
       "    <tr style=\"text-align: right;\">\n",
       "      <th></th>\n",
       "      <th>Unnamed: 0</th>\n",
       "      <th>Time</th>\n",
       "      <th>Bio</th>\n",
       "      <th>Full Name</th>\n",
       "      <th>is Verified</th>\n",
       "      <th>is Private</th>\n",
       "      <th>Username</th>\n",
       "      <th>fb_page</th>\n",
       "      <th>No. of Post</th>\n",
       "      <th>followers</th>\n",
       "      <th>following</th>\n",
       "      <th>Picture URL</th>\n",
       "      <th>Time of Post</th>\n",
       "      <th>Accessibility Caption</th>\n",
       "      <th>Likes</th>\n",
       "      <th>Tags</th>\n",
       "      <th>Post Caption</th>\n",
       "      <th>is Video</th>\n",
       "      <th>Comments Counts</th>\n",
       "    </tr>\n",
       "  </thead>\n",
       "  <tbody>\n",
       "    <tr>\n",
       "      <th>0</th>\n",
       "      <td>0</td>\n",
       "      <td>2020-08-24 15:32:21.040489</td>\n",
       "      <td>Indian Content Creator\\nFlying Beast// FitMusc...</td>\n",
       "      <td>Gaurav Taneja (Flying Beast)</td>\n",
       "      <td>True</td>\n",
       "      <td>False</td>\n",
       "      <td>taneja.gaurav</td>\n",
       "      <td>NaN</td>\n",
       "      <td>780</td>\n",
       "      <td>1258909</td>\n",
       "      <td>333</td>\n",
       "      <td>https://instagram.fbom10-1.fna.fbcdn.net/v/t51...</td>\n",
       "      <td>2020-08-23 20:01:54.000000</td>\n",
       "      <td>NaN</td>\n",
       "      <td>61792</td>\n",
       "      <td>[]</td>\n",
       "      <td>['This was our first live stream. And what a f...</td>\n",
       "      <td>True</td>\n",
       "      <td>583</td>\n",
       "    </tr>\n",
       "    <tr>\n",
       "      <th>1</th>\n",
       "      <td>0</td>\n",
       "      <td>2020-08-24 15:32:21.077469</td>\n",
       "      <td>Indian Content Creator\\nFlying Beast// FitMusc...</td>\n",
       "      <td>Gaurav Taneja (Flying Beast)</td>\n",
       "      <td>True</td>\n",
       "      <td>False</td>\n",
       "      <td>taneja.gaurav</td>\n",
       "      <td>NaN</td>\n",
       "      <td>780</td>\n",
       "      <td>1258909</td>\n",
       "      <td>333</td>\n",
       "      <td>https://instagram.fbom10-1.fna.fbcdn.net/v/t51...</td>\n",
       "      <td>2020-08-22 22:01:04.000000</td>\n",
       "      <td>NaN</td>\n",
       "      <td>112299</td>\n",
       "      <td>[]</td>\n",
       "      <td>['Ritu got emotional on LIVE stream']</td>\n",
       "      <td>True</td>\n",
       "      <td>489</td>\n",
       "    </tr>\n",
       "    <tr>\n",
       "      <th>2</th>\n",
       "      <td>0</td>\n",
       "      <td>2020-08-24 15:32:21.112447</td>\n",
       "      <td>Indian Content Creator\\nFlying Beast// FitMusc...</td>\n",
       "      <td>Gaurav Taneja (Flying Beast)</td>\n",
       "      <td>True</td>\n",
       "      <td>False</td>\n",
       "      <td>taneja.gaurav</td>\n",
       "      <td>NaN</td>\n",
       "      <td>780</td>\n",
       "      <td>1258909</td>\n",
       "      <td>333</td>\n",
       "      <td>https://instagram.fbom10-1.fna.fbcdn.net/v/t51...</td>\n",
       "      <td>2020-08-21 17:56:14.000000</td>\n",
       "      <td>Photo by Gaurav Taneja (Flying Beast) on Augus...</td>\n",
       "      <td>202113</td>\n",
       "      <td>[]</td>\n",
       "      <td>['Training makes me HAPPY !! \\n.\\n#flyingbeast...</td>\n",
       "      <td>False</td>\n",
       "      <td>1113</td>\n",
       "    </tr>\n",
       "    <tr>\n",
       "      <th>3</th>\n",
       "      <td>0</td>\n",
       "      <td>2020-08-24 15:32:21.140431</td>\n",
       "      <td>Indian Content Creator\\nFlying Beast// FitMusc...</td>\n",
       "      <td>Gaurav Taneja (Flying Beast)</td>\n",
       "      <td>True</td>\n",
       "      <td>False</td>\n",
       "      <td>taneja.gaurav</td>\n",
       "      <td>NaN</td>\n",
       "      <td>780</td>\n",
       "      <td>1258909</td>\n",
       "      <td>333</td>\n",
       "      <td>https://instagram.fbom10-1.fna.fbcdn.net/v/t51...</td>\n",
       "      <td>2020-08-20 20:15:25.000000</td>\n",
       "      <td>Photo shared by Gaurav Taneja (Flying Beast) o...</td>\n",
       "      <td>341614</td>\n",
       "      <td>['rasbhari.taneja']</td>\n",
       "      <td>['Flexing with papa @rasbhari.taneja \\n.\\n#fly...</td>\n",
       "      <td>False</td>\n",
       "      <td>2250</td>\n",
       "    </tr>\n",
       "    <tr>\n",
       "      <th>4</th>\n",
       "      <td>0</td>\n",
       "      <td>2020-08-24 15:32:21.174413</td>\n",
       "      <td>Indian Content Creator\\nFlying Beast// FitMusc...</td>\n",
       "      <td>Gaurav Taneja (Flying Beast)</td>\n",
       "      <td>True</td>\n",
       "      <td>False</td>\n",
       "      <td>taneja.gaurav</td>\n",
       "      <td>NaN</td>\n",
       "      <td>780</td>\n",
       "      <td>1258909</td>\n",
       "      <td>333</td>\n",
       "      <td>https://instagram.fbom10-1.fna.fbcdn.net/v/t51...</td>\n",
       "      <td>2020-08-19 12:02:42.000000</td>\n",
       "      <td>NaN</td>\n",
       "      <td>188541</td>\n",
       "      <td>[]</td>\n",
       "      <td>['']</td>\n",
       "      <td>True</td>\n",
       "      <td>3115</td>\n",
       "    </tr>\n",
       "  </tbody>\n",
       "</table>\n",
       "</div>"
      ],
      "text/plain": [
       "   Unnamed: 0                        Time  \\\n",
       "0           0  2020-08-24 15:32:21.040489   \n",
       "1           0  2020-08-24 15:32:21.077469   \n",
       "2           0  2020-08-24 15:32:21.112447   \n",
       "3           0  2020-08-24 15:32:21.140431   \n",
       "4           0  2020-08-24 15:32:21.174413   \n",
       "\n",
       "                                                 Bio  \\\n",
       "0  Indian Content Creator\\nFlying Beast// FitMusc...   \n",
       "1  Indian Content Creator\\nFlying Beast// FitMusc...   \n",
       "2  Indian Content Creator\\nFlying Beast// FitMusc...   \n",
       "3  Indian Content Creator\\nFlying Beast// FitMusc...   \n",
       "4  Indian Content Creator\\nFlying Beast// FitMusc...   \n",
       "\n",
       "                      Full Name  is Verified  is Private       Username  \\\n",
       "0  Gaurav Taneja (Flying Beast)         True       False  taneja.gaurav   \n",
       "1  Gaurav Taneja (Flying Beast)         True       False  taneja.gaurav   \n",
       "2  Gaurav Taneja (Flying Beast)         True       False  taneja.gaurav   \n",
       "3  Gaurav Taneja (Flying Beast)         True       False  taneja.gaurav   \n",
       "4  Gaurav Taneja (Flying Beast)         True       False  taneja.gaurav   \n",
       "\n",
       "   fb_page  No. of Post  followers  following  \\\n",
       "0      NaN          780    1258909        333   \n",
       "1      NaN          780    1258909        333   \n",
       "2      NaN          780    1258909        333   \n",
       "3      NaN          780    1258909        333   \n",
       "4      NaN          780    1258909        333   \n",
       "\n",
       "                                         Picture URL  \\\n",
       "0  https://instagram.fbom10-1.fna.fbcdn.net/v/t51...   \n",
       "1  https://instagram.fbom10-1.fna.fbcdn.net/v/t51...   \n",
       "2  https://instagram.fbom10-1.fna.fbcdn.net/v/t51...   \n",
       "3  https://instagram.fbom10-1.fna.fbcdn.net/v/t51...   \n",
       "4  https://instagram.fbom10-1.fna.fbcdn.net/v/t51...   \n",
       "\n",
       "                 Time of Post  \\\n",
       "0  2020-08-23 20:01:54.000000   \n",
       "1  2020-08-22 22:01:04.000000   \n",
       "2  2020-08-21 17:56:14.000000   \n",
       "3  2020-08-20 20:15:25.000000   \n",
       "4  2020-08-19 12:02:42.000000   \n",
       "\n",
       "                               Accessibility Caption   Likes  \\\n",
       "0                                                NaN   61792   \n",
       "1                                                NaN  112299   \n",
       "2  Photo by Gaurav Taneja (Flying Beast) on Augus...  202113   \n",
       "3  Photo shared by Gaurav Taneja (Flying Beast) o...  341614   \n",
       "4                                                NaN  188541   \n",
       "\n",
       "                  Tags                                       Post Caption  \\\n",
       "0                   []  ['This was our first live stream. And what a f...   \n",
       "1                   []              ['Ritu got emotional on LIVE stream']   \n",
       "2                   []  ['Training makes me HAPPY !! \\n.\\n#flyingbeast...   \n",
       "3  ['rasbhari.taneja']  ['Flexing with papa @rasbhari.taneja \\n.\\n#fly...   \n",
       "4                   []                                               ['']   \n",
       "\n",
       "   is Video  Comments Counts  \n",
       "0      True              583  \n",
       "1      True              489  \n",
       "2     False             1113  \n",
       "3     False             2250  \n",
       "4      True             3115  "
      ]
     },
     "execution_count": 6,
     "metadata": {},
     "output_type": "execute_result"
    }
   ],
   "source": [
    "data_common.head()"
   ]
  },
  {
   "cell_type": "code",
   "execution_count": 7,
   "metadata": {},
   "outputs": [
    {
     "data": {
      "text/plain": [
       "Index(['Unnamed: 0', 'Time', 'Bio', 'Full Name', 'is Verified', 'is Private',\n",
       "       'Username', 'fb_page', 'No. of Post', 'followers', 'following',\n",
       "       'Picture URL', 'Time of Post', 'Accessibility Caption', 'Likes', 'Tags',\n",
       "       'Post Caption', 'is Video', 'Comments Counts'],\n",
       "      dtype='object')"
      ]
     },
     "execution_count": 7,
     "metadata": {},
     "output_type": "execute_result"
    }
   ],
   "source": [
    "data_common.columns"
   ]
  },
  {
   "cell_type": "code",
   "execution_count": 8,
   "metadata": {},
   "outputs": [],
   "source": [
    "data2 = data_common[['Time','Username','No. of Post','following','followers','Likes','is Video','Tags']]"
   ]
  },
  {
   "cell_type": "code",
   "execution_count": 9,
   "metadata": {},
   "outputs": [
    {
     "name": "stderr",
     "output_type": "stream",
     "text": [
      "D:\\Anaconda3\\lib\\site-packages\\pandas\\core\\frame.py:4133: SettingWithCopyWarning: \n",
      "A value is trying to be set on a copy of a slice from a DataFrame\n",
      "\n",
      "See the caveats in the documentation: https://pandas.pydata.org/pandas-docs/stable/user_guide/indexing.html#returning-a-view-versus-a-copy\n",
      "  errors=errors,\n"
     ]
    }
   ],
   "source": [
    "data2.rename(columns = {'Time':'date','Username':'username','No. of Post':'numberPosts','following':'numberFollowing','followers':'numberFollowers','Likes':'numberLikes','is Video':'isVideo','Tags':'tags'}, inplace = True)"
   ]
  },
  {
   "cell_type": "code",
   "execution_count": 10,
   "metadata": {},
   "outputs": [
    {
     "data": {
      "text/html": [
       "<div>\n",
       "<style scoped>\n",
       "    .dataframe tbody tr th:only-of-type {\n",
       "        vertical-align: middle;\n",
       "    }\n",
       "\n",
       "    .dataframe tbody tr th {\n",
       "        vertical-align: top;\n",
       "    }\n",
       "\n",
       "    .dataframe thead th {\n",
       "        text-align: right;\n",
       "    }\n",
       "</style>\n",
       "<table border=\"1\" class=\"dataframe\">\n",
       "  <thead>\n",
       "    <tr style=\"text-align: right;\">\n",
       "      <th></th>\n",
       "      <th>date</th>\n",
       "      <th>username</th>\n",
       "      <th>numberPosts</th>\n",
       "      <th>numberFollowing</th>\n",
       "      <th>numberFollowers</th>\n",
       "      <th>numberLikes</th>\n",
       "      <th>isVideo</th>\n",
       "      <th>tags</th>\n",
       "    </tr>\n",
       "  </thead>\n",
       "  <tbody>\n",
       "    <tr>\n",
       "      <th>0</th>\n",
       "      <td>2020-08-24 15:32:21.040489</td>\n",
       "      <td>taneja.gaurav</td>\n",
       "      <td>780</td>\n",
       "      <td>333</td>\n",
       "      <td>1258909</td>\n",
       "      <td>61792</td>\n",
       "      <td>True</td>\n",
       "      <td>[]</td>\n",
       "    </tr>\n",
       "    <tr>\n",
       "      <th>1</th>\n",
       "      <td>2020-08-24 15:32:21.077469</td>\n",
       "      <td>taneja.gaurav</td>\n",
       "      <td>780</td>\n",
       "      <td>333</td>\n",
       "      <td>1258909</td>\n",
       "      <td>112299</td>\n",
       "      <td>True</td>\n",
       "      <td>[]</td>\n",
       "    </tr>\n",
       "    <tr>\n",
       "      <th>2</th>\n",
       "      <td>2020-08-24 15:32:21.112447</td>\n",
       "      <td>taneja.gaurav</td>\n",
       "      <td>780</td>\n",
       "      <td>333</td>\n",
       "      <td>1258909</td>\n",
       "      <td>202113</td>\n",
       "      <td>False</td>\n",
       "      <td>[]</td>\n",
       "    </tr>\n",
       "    <tr>\n",
       "      <th>3</th>\n",
       "      <td>2020-08-24 15:32:21.140431</td>\n",
       "      <td>taneja.gaurav</td>\n",
       "      <td>780</td>\n",
       "      <td>333</td>\n",
       "      <td>1258909</td>\n",
       "      <td>341614</td>\n",
       "      <td>False</td>\n",
       "      <td>['rasbhari.taneja']</td>\n",
       "    </tr>\n",
       "    <tr>\n",
       "      <th>4</th>\n",
       "      <td>2020-08-24 15:32:21.174413</td>\n",
       "      <td>taneja.gaurav</td>\n",
       "      <td>780</td>\n",
       "      <td>333</td>\n",
       "      <td>1258909</td>\n",
       "      <td>188541</td>\n",
       "      <td>True</td>\n",
       "      <td>[]</td>\n",
       "    </tr>\n",
       "  </tbody>\n",
       "</table>\n",
       "</div>"
      ],
      "text/plain": [
       "                         date       username  numberPosts  numberFollowing  \\\n",
       "0  2020-08-24 15:32:21.040489  taneja.gaurav          780              333   \n",
       "1  2020-08-24 15:32:21.077469  taneja.gaurav          780              333   \n",
       "2  2020-08-24 15:32:21.112447  taneja.gaurav          780              333   \n",
       "3  2020-08-24 15:32:21.140431  taneja.gaurav          780              333   \n",
       "4  2020-08-24 15:32:21.174413  taneja.gaurav          780              333   \n",
       "\n",
       "   numberFollowers  numberLikes  isVideo                 tags  \n",
       "0          1258909        61792     True                   []  \n",
       "1          1258909       112299     True                   []  \n",
       "2          1258909       202113    False                   []  \n",
       "3          1258909       341614    False  ['rasbhari.taneja']  \n",
       "4          1258909       188541     True                   []  "
      ]
     },
     "execution_count": 10,
     "metadata": {},
     "output_type": "execute_result"
    }
   ],
   "source": [
    "data2.head()"
   ]
  },
  {
   "cell_type": "code",
   "execution_count": 11,
   "metadata": {},
   "outputs": [],
   "source": [
    "data1 = pd.concat([data1,data2])"
   ]
  },
  {
   "cell_type": "code",
   "execution_count": null,
   "metadata": {},
   "outputs": [],
   "source": []
  },
  {
   "cell_type": "code",
   "execution_count": 12,
   "metadata": {},
   "outputs": [],
   "source": [
    "number_tags = []\n",
    "for i in data1.tags:\n",
    "    if i == '[]':\n",
    "        number_tags.append(0)\n",
    "    else:\n",
    "        number_tags.append(len(i.strip('[').strip(']').split(',')))"
   ]
  },
  {
   "cell_type": "code",
   "execution_count": 13,
   "metadata": {},
   "outputs": [],
   "source": [
    "data1['number_tags'] = number_tags"
   ]
  },
  {
   "cell_type": "code",
   "execution_count": 14,
   "metadata": {},
   "outputs": [
    {
     "data": {
      "text/html": [
       "<div>\n",
       "<style scoped>\n",
       "    .dataframe tbody tr th:only-of-type {\n",
       "        vertical-align: middle;\n",
       "    }\n",
       "\n",
       "    .dataframe tbody tr th {\n",
       "        vertical-align: top;\n",
       "    }\n",
       "\n",
       "    .dataframe thead th {\n",
       "        text-align: right;\n",
       "    }\n",
       "</style>\n",
       "<table border=\"1\" class=\"dataframe\">\n",
       "  <thead>\n",
       "    <tr style=\"text-align: right;\">\n",
       "      <th></th>\n",
       "      <th>date</th>\n",
       "      <th>username</th>\n",
       "      <th>numberPosts</th>\n",
       "      <th>numberFollowing</th>\n",
       "      <th>numberFollowers</th>\n",
       "      <th>numberLikes</th>\n",
       "      <th>isVideo</th>\n",
       "      <th>tags</th>\n",
       "      <th>number_tags</th>\n",
       "    </tr>\n",
       "  </thead>\n",
       "  <tbody>\n",
       "    <tr>\n",
       "      <th>0</th>\n",
       "      <td>2017-04-29T05:00:00.000Z</td>\n",
       "      <td>Sylvie Meis Official Account</td>\n",
       "      <td>988</td>\n",
       "      <td>233</td>\n",
       "      <td>720979</td>\n",
       "      <td>10047</td>\n",
       "      <td>False</td>\n",
       "      <td>['#exclusivspezial']</td>\n",
       "      <td>1</td>\n",
       "    </tr>\n",
       "    <tr>\n",
       "      <th>1</th>\n",
       "      <td>2017-04-29T05:00:00.000Z</td>\n",
       "      <td>Sylvie Meis Official Account</td>\n",
       "      <td>988</td>\n",
       "      <td>233</td>\n",
       "      <td>720979</td>\n",
       "      <td>16781</td>\n",
       "      <td>False</td>\n",
       "      <td>['#jumpsuit', '#glam', '#ootn']</td>\n",
       "      <td>3</td>\n",
       "    </tr>\n",
       "    <tr>\n",
       "      <th>2</th>\n",
       "      <td>2017-04-27T05:00:00.000Z</td>\n",
       "      <td>Sylvie Meis Official Account</td>\n",
       "      <td>988</td>\n",
       "      <td>233</td>\n",
       "      <td>720979</td>\n",
       "      <td>11227</td>\n",
       "      <td>False</td>\n",
       "      <td>['#rehearsalday', '#behindthescenes']</td>\n",
       "      <td>2</td>\n",
       "    </tr>\n",
       "    <tr>\n",
       "      <th>3</th>\n",
       "      <td>2017-04-24T05:00:00.000Z</td>\n",
       "      <td>Sylvie Meis Official Account</td>\n",
       "      <td>988</td>\n",
       "      <td>233</td>\n",
       "      <td>720979</td>\n",
       "      <td>21539</td>\n",
       "      <td>False</td>\n",
       "      <td>['#dress', '#shoes', '#glam']</td>\n",
       "      <td>3</td>\n",
       "    </tr>\n",
       "    <tr>\n",
       "      <th>4</th>\n",
       "      <td>2017-04-22T05:00:00.000Z</td>\n",
       "      <td>Sylvie Meis Official Account</td>\n",
       "      <td>988</td>\n",
       "      <td>233</td>\n",
       "      <td>720979</td>\n",
       "      <td>21054</td>\n",
       "      <td>False</td>\n",
       "      <td>['#weekend', '#yay', '#happyweekend', '#kiss']</td>\n",
       "      <td>4</td>\n",
       "    </tr>\n",
       "  </tbody>\n",
       "</table>\n",
       "</div>"
      ],
      "text/plain": [
       "                       date                      username  numberPosts  \\\n",
       "0  2017-04-29T05:00:00.000Z  Sylvie Meis Official Account          988   \n",
       "1  2017-04-29T05:00:00.000Z  Sylvie Meis Official Account          988   \n",
       "2  2017-04-27T05:00:00.000Z  Sylvie Meis Official Account          988   \n",
       "3  2017-04-24T05:00:00.000Z  Sylvie Meis Official Account          988   \n",
       "4  2017-04-22T05:00:00.000Z  Sylvie Meis Official Account          988   \n",
       "\n",
       "   numberFollowing  numberFollowers  numberLikes  isVideo  \\\n",
       "0              233           720979        10047    False   \n",
       "1              233           720979        16781    False   \n",
       "2              233           720979        11227    False   \n",
       "3              233           720979        21539    False   \n",
       "4              233           720979        21054    False   \n",
       "\n",
       "                                             tags  number_tags  \n",
       "0                            ['#exclusivspezial']            1  \n",
       "1                 ['#jumpsuit', '#glam', '#ootn']            3  \n",
       "2           ['#rehearsalday', '#behindthescenes']            2  \n",
       "3                   ['#dress', '#shoes', '#glam']            3  \n",
       "4  ['#weekend', '#yay', '#happyweekend', '#kiss']            4  "
      ]
     },
     "execution_count": 14,
     "metadata": {},
     "output_type": "execute_result"
    }
   ],
   "source": [
    "data1.head()"
   ]
  },
  {
   "cell_type": "code",
   "execution_count": 15,
   "metadata": {},
   "outputs": [],
   "source": [
    "date = []\n",
    "for i in data1.date:\n",
    "    date.append(i[0:10])"
   ]
  },
  {
   "cell_type": "code",
   "execution_count": 16,
   "metadata": {},
   "outputs": [],
   "source": [
    "data1['date'] = pd.to_datetime(date)"
   ]
  },
  {
   "cell_type": "code",
   "execution_count": 17,
   "metadata": {},
   "outputs": [
    {
     "data": {
      "text/plain": [
       "0     2017-04-29\n",
       "1     2017-04-29\n",
       "2     2017-04-27\n",
       "3     2017-04-24\n",
       "4     2017-04-22\n",
       "         ...    \n",
       "502   2020-08-24\n",
       "503   2020-08-24\n",
       "504   2020-08-24\n",
       "505   2020-08-24\n",
       "506   2020-08-24\n",
       "Name: date, Length: 17046, dtype: datetime64[ns]"
      ]
     },
     "execution_count": 17,
     "metadata": {},
     "output_type": "execute_result"
    }
   ],
   "source": [
    "data1['date']"
   ]
  },
  {
   "cell_type": "code",
   "execution_count": null,
   "metadata": {},
   "outputs": [],
   "source": []
  },
  {
   "cell_type": "code",
   "execution_count": null,
   "metadata": {},
   "outputs": [],
   "source": []
  },
  {
   "cell_type": "code",
   "execution_count": null,
   "metadata": {},
   "outputs": [],
   "source": []
  },
  {
   "cell_type": "code",
   "execution_count": 18,
   "metadata": {},
   "outputs": [
    {
     "data": {
      "image/png": "[encoded data removed]",
      "text/plain": [
       "<Figure size 432x288 with 1 Axes>"
      ]
     },
     "metadata": {
      "needs_background": "light"
     },
     "output_type": "display_data"
    }
   ],
   "source": [
    "sns.scatterplot(x = data1.numberFollowers , y = data1.numberLikes)\n",
    "plt.show()"
   ]
  },
  {
   "cell_type": "code",
   "execution_count": 19,
   "metadata": {},
   "outputs": [
    {
     "name": "stderr",
     "output_type": "stream",
     "text": [
      "D:\\Anaconda3\\lib\\site-packages\\ipykernel_launcher.py:1: FutureWarning: Indexing with multiple keys (implicitly converted to a tuple of keys) will be deprecated, use a list instead.\n",
      "  \"\"\"Entry point for launching an IPython kernel.\n"
     ]
    }
   ],
   "source": [
    "df = data1.groupby(['username'])['numberPosts','numberFollowing','numberFollowers','numberLikes','number_tags'].mean()"
   ]
  },
  {
   "cell_type": "code",
   "execution_count": 20,
   "metadata": {},
   "outputs": [
    {
     "data": {
      "text/html": [
       "<div>\n",
       "<style scoped>\n",
       "    .dataframe tbody tr th:only-of-type {\n",
       "        vertical-align: middle;\n",
       "    }\n",
       "\n",
       "    .dataframe tbody tr th {\n",
       "        vertical-align: top;\n",
       "    }\n",
       "\n",
       "    .dataframe thead th {\n",
       "        text-align: right;\n",
       "    }\n",
       "</style>\n",
       "<table border=\"1\" class=\"dataframe\">\n",
       "  <thead>\n",
       "    <tr style=\"text-align: right;\">\n",
       "      <th></th>\n",
       "      <th>numberPosts</th>\n",
       "      <th>numberFollowing</th>\n",
       "      <th>numberFollowers</th>\n",
       "      <th>numberLikes</th>\n",
       "      <th>number_tags</th>\n",
       "    </tr>\n",
       "    <tr>\n",
       "      <th>username</th>\n",
       "      <th></th>\n",
       "      <th></th>\n",
       "      <th></th>\n",
       "      <th></th>\n",
       "      <th></th>\n",
       "    </tr>\n",
       "  </thead>\n",
       "  <tbody>\n",
       "    <tr>\n",
       "      <th>! AWESOME NATURE TRAVEL</th>\n",
       "      <td>2994.0</td>\n",
       "      <td>31.0</td>\n",
       "      <td>1389950.0</td>\n",
       "      <td>17295.529412</td>\n",
       "      <td>0.000000</td>\n",
       "    </tr>\n",
       "    <tr>\n",
       "      <th>!hOt dOtz!</th>\n",
       "      <td>2365.0</td>\n",
       "      <td>190.0</td>\n",
       "      <td>792126.0</td>\n",
       "      <td>23356.882353</td>\n",
       "      <td>2.411765</td>\n",
       "    </tr>\n",
       "    <tr>\n",
       "      <th>#1 #Audi Obsession Page</th>\n",
       "      <td>2381.0</td>\n",
       "      <td>116.0</td>\n",
       "      <td>132612.0</td>\n",
       "      <td>4447.117647</td>\n",
       "      <td>2.470588</td>\n",
       "    </tr>\n",
       "    <tr>\n",
       "      <th>#BeYouBeTrue</th>\n",
       "      <td>1123.0</td>\n",
       "      <td>1377.0</td>\n",
       "      <td>126386.0</td>\n",
       "      <td>1348.294118</td>\n",
       "      <td>8.647059</td>\n",
       "    </tr>\n",
       "    <tr>\n",
       "      <th>#DEVOURPOWER</th>\n",
       "      <td>3348.0</td>\n",
       "      <td>336.0</td>\n",
       "      <td>402421.0</td>\n",
       "      <td>12903.941176</td>\n",
       "      <td>1.705882</td>\n",
       "    </tr>\n",
       "    <tr>\n",
       "      <th>...</th>\n",
       "      <td>...</td>\n",
       "      <td>...</td>\n",
       "      <td>...</td>\n",
       "      <td>...</td>\n",
       "      <td>...</td>\n",
       "    </tr>\n",
       "    <tr>\n",
       "      <th>💃🏻Sara</th>\n",
       "      <td>5347.0</td>\n",
       "      <td>824.0</td>\n",
       "      <td>829048.0</td>\n",
       "      <td>14762.588235</td>\n",
       "      <td>1.000000</td>\n",
       "    </tr>\n",
       "    <tr>\n",
       "      <th>💜 Kerina</th>\n",
       "      <td>1036.0</td>\n",
       "      <td>413.0</td>\n",
       "      <td>360499.0</td>\n",
       "      <td>8802.941176</td>\n",
       "      <td>1.529412</td>\n",
       "    </tr>\n",
       "    <tr>\n",
       "      <th>💩 Frases De M3rda 💩</th>\n",
       "      <td>2475.0</td>\n",
       "      <td>133.0</td>\n",
       "      <td>479108.0</td>\n",
       "      <td>33925.176471</td>\n",
       "      <td>3.000000</td>\n",
       "    </tr>\n",
       "    <tr>\n",
       "      <th>📧WyckedShaun@gmail.com</th>\n",
       "      <td>1953.0</td>\n",
       "      <td>349.0</td>\n",
       "      <td>196397.0</td>\n",
       "      <td>3513.588235</td>\n",
       "      <td>10.705882</td>\n",
       "    </tr>\n",
       "    <tr>\n",
       "      <th>🔥 Daily HD Sneaker Feed 👟</th>\n",
       "      <td>2071.0</td>\n",
       "      <td>2490.0</td>\n",
       "      <td>196576.0</td>\n",
       "      <td>2503.588235</td>\n",
       "      <td>1.176471</td>\n",
       "    </tr>\n",
       "  </tbody>\n",
       "</table>\n",
       "<p>1000 rows × 5 columns</p>\n",
       "</div>"
      ],
      "text/plain": [
       "                           numberPosts  numberFollowing  numberFollowers  \\\n",
       "username                                                                   \n",
       "! AWESOME NATURE TRAVEL         2994.0             31.0        1389950.0   \n",
       "!hOt dOtz!                    2365.0            190.0         792126.0   \n",
       "#1 #Audi Obsession Page         2381.0            116.0         132612.0   \n",
       "#BeYouBeTrue                    1123.0           1377.0         126386.0   \n",
       "#DEVOURPOWER                    3348.0            336.0         402421.0   \n",
       "...                                ...              ...              ...   \n",
       "💃🏻Sara                          5347.0            824.0         829048.0   \n",
       "💜 Kerina                        1036.0            413.0         360499.0   \n",
       "💩 Frases De M3rda 💩             2475.0            133.0         479108.0   \n",
       "📧WyckedShaun@gmail.com          1953.0            349.0         196397.0   \n",
       "🔥 Daily HD Sneaker Feed 👟       2071.0           2490.0         196576.0   \n",
       "\n",
       "                            numberLikes  number_tags  \n",
       "username                                              \n",
       "! AWESOME NATURE TRAVEL    17295.529412     0.000000  \n",
       "!hOt dOtz!               23356.882353     2.411765  \n",
       "#1 #Audi Obsession Page     4447.117647     2.470588  \n",
       "#BeYouBeTrue                1348.294118     8.647059  \n",
       "#DEVOURPOWER               12903.941176     1.705882  \n",
       "...                                 ...          ...  \n",
       "💃🏻Sara                     14762.588235     1.000000  \n",
       "💜 Kerina                    8802.941176     1.529412  \n",
       "💩 Frases De M3rda 💩        33925.176471     3.000000  \n",
       "📧WyckedShaun@gmail.com      3513.588235    10.705882  \n",
       "🔥 Daily HD Sneaker Feed 👟   2503.588235     1.176471  \n",
       "\n",
       "[1000 rows x 5 columns]"
      ]
     },
     "execution_count": 20,
     "metadata": {},
     "output_type": "execute_result"
    }
   ],
   "source": [
    "df"
   ]
  },
  {
   "cell_type": "code",
   "execution_count": 21,
   "metadata": {},
   "outputs": [],
   "source": [
    "df.reset_index(drop = True, inplace = True)"
   ]
  },
  {
   "cell_type": "code",
   "execution_count": 22,
   "metadata": {},
   "outputs": [],
   "source": [
    "df['number_tags'] = round(df.number_tags)"
   ]
  },
  {
   "cell_type": "code",
   "execution_count": 23,
   "metadata": {},
   "outputs": [],
   "source": [
    "df.rename(columns = {'number_tags':'Avg_number_tags','numberLikes':'Avg_number_likes'},inplace = True)"
   ]
  },
  {
   "cell_type": "code",
   "execution_count": 24,
   "metadata": {
    "scrolled": true
   },
   "outputs": [
    {
     "data": {
      "text/plain": [
       "<seaborn.axisgrid.PairGrid at 0x2ae43e6adc8>"
      ]
     },
     "execution_count": 24,
     "metadata": {},
     "output_type": "execute_result"
    },
    {
     "data": {
      "image/png": "[encoded data removed]",
      "text/plain": [
       "<Figure size 900x900 with 30 Axes>"
      ]
     },
     "metadata": {
      "needs_background": "light"
     },
     "output_type": "display_data"
    }
   ],
   "source": [
    "sns.pairplot(df)"
   ]
  },
  {
   "cell_type": "code",
   "execution_count": 25,
   "metadata": {},
   "outputs": [
    {
     "data": {
      "text/plain": [
       "<matplotlib.axes._subplots.AxesSubplot at 0x2ae46455888>"
      ]
     },
     "execution_count": 25,
     "metadata": {},
     "output_type": "execute_result"
    },
    {
     "data": {
      "image/png": "[encoded data removed]",
      "text/plain": [
       "<Figure size 432x288 with 2 Axes>"
      ]
     },
     "metadata": {
      "needs_background": "light"
     },
     "output_type": "display_data"
    }
   ],
   "source": [
    "sns.heatmap(df.corr(), annot = True)"
   ]
  },
  {
   "cell_type": "code",
   "execution_count": 26,
   "metadata": {},
   "outputs": [
    {
     "data": {
      "text/html": [
       "<div>\n",
       "<style scoped>\n",
       "    .dataframe tbody tr th:only-of-type {\n",
       "        vertical-align: middle;\n",
       "    }\n",
       "\n",
       "    .dataframe tbody tr th {\n",
       "        vertical-align: top;\n",
       "    }\n",
       "\n",
       "    .dataframe thead th {\n",
       "        text-align: right;\n",
       "    }\n",
       "</style>\n",
       "<table border=\"1\" class=\"dataframe\">\n",
       "  <thead>\n",
       "    <tr style=\"text-align: right;\">\n",
       "      <th></th>\n",
       "      <th>numberPosts</th>\n",
       "      <th>numberFollowing</th>\n",
       "      <th>numberFollowers</th>\n",
       "      <th>Avg_number_likes</th>\n",
       "      <th>Avg_number_tags</th>\n",
       "    </tr>\n",
       "  </thead>\n",
       "  <tbody>\n",
       "    <tr>\n",
       "      <th>count</th>\n",
       "      <td>1000.000000</td>\n",
       "      <td>1.000000e+03</td>\n",
       "      <td>1.000000e+03</td>\n",
       "      <td>1.000000e+03</td>\n",
       "      <td>1000.000000</td>\n",
       "    </tr>\n",
       "    <tr>\n",
       "      <th>mean</th>\n",
       "      <td>2345.450500</td>\n",
       "      <td>2.544117e+03</td>\n",
       "      <td>1.396169e+06</td>\n",
       "      <td>3.206112e+04</td>\n",
       "      <td>2.267000</td>\n",
       "    </tr>\n",
       "    <tr>\n",
       "      <th>std</th>\n",
       "      <td>3001.209893</td>\n",
       "      <td>5.831247e+04</td>\n",
       "      <td>6.881521e+06</td>\n",
       "      <td>1.180275e+05</td>\n",
       "      <td>4.076559</td>\n",
       "    </tr>\n",
       "    <tr>\n",
       "      <th>min</th>\n",
       "      <td>3.000000</td>\n",
       "      <td>0.000000e+00</td>\n",
       "      <td>4.000000e+00</td>\n",
       "      <td>3.333333e-01</td>\n",
       "      <td>0.000000</td>\n",
       "    </tr>\n",
       "    <tr>\n",
       "      <th>25%</th>\n",
       "      <td>763.750000</td>\n",
       "      <td>1.892500e+02</td>\n",
       "      <td>1.978598e+05</td>\n",
       "      <td>3.594368e+03</td>\n",
       "      <td>0.000000</td>\n",
       "    </tr>\n",
       "    <tr>\n",
       "      <th>50%</th>\n",
       "      <td>1463.000000</td>\n",
       "      <td>3.945000e+02</td>\n",
       "      <td>4.017495e+05</td>\n",
       "      <td>7.848706e+03</td>\n",
       "      <td>1.000000</td>\n",
       "    </tr>\n",
       "    <tr>\n",
       "      <th>75%</th>\n",
       "      <td>2926.500000</td>\n",
       "      <td>6.477500e+02</td>\n",
       "      <td>9.875048e+05</td>\n",
       "      <td>2.083310e+04</td>\n",
       "      <td>2.000000</td>\n",
       "    </tr>\n",
       "    <tr>\n",
       "      <th>max</th>\n",
       "      <td>46246.000000</td>\n",
       "      <td>1.838511e+06</td>\n",
       "      <td>1.949924e+08</td>\n",
       "      <td>2.128508e+06</td>\n",
       "      <td>30.000000</td>\n",
       "    </tr>\n",
       "  </tbody>\n",
       "</table>\n",
       "</div>"
      ],
      "text/plain": [
       "        numberPosts  numberFollowing  numberFollowers  Avg_number_likes  \\\n",
       "count   1000.000000     1.000000e+03     1.000000e+03      1.000000e+03   \n",
       "mean    2345.450500     2.544117e+03     1.396169e+06      3.206112e+04   \n",
       "std     3001.209893     5.831247e+04     6.881521e+06      1.180275e+05   \n",
       "min        3.000000     0.000000e+00     4.000000e+00      3.333333e-01   \n",
       "25%      763.750000     1.892500e+02     1.978598e+05      3.594368e+03   \n",
       "50%     1463.000000     3.945000e+02     4.017495e+05      7.848706e+03   \n",
       "75%     2926.500000     6.477500e+02     9.875048e+05      2.083310e+04   \n",
       "max    46246.000000     1.838511e+06     1.949924e+08      2.128508e+06   \n",
       "\n",
       "       Avg_number_tags  \n",
       "count      1000.000000  \n",
       "mean          2.267000  \n",
       "std           4.076559  \n",
       "min           0.000000  \n",
       "25%           0.000000  \n",
       "50%           1.000000  \n",
       "75%           2.000000  \n",
       "max          30.000000  "
      ]
     },
     "execution_count": 26,
     "metadata": {},
     "output_type": "execute_result"
    }
   ],
   "source": [
    "df.describe()"
   ]
  },
  {
   "cell_type": "markdown",
   "metadata": {},
   "source": [
    "### Distribution & Statistics on Target Variable"
   ]
  },
  {
   "cell_type": "code",
   "execution_count": 27,
   "metadata": {},
   "outputs": [
    {
     "name": "stdout",
     "output_type": "stream",
     "text": [
      "\n",
      " mu = 32061.12 and sigma = 117968.50\n",
      "\n"
     ]
    },
    {
     "data": {
      "image/png": "[encoded data removed]",
      "text/plain": [
       "<Figure size 432x288 with 1 Axes>"
      ]
     },
     "metadata": {
      "needs_background": "light"
     },
     "output_type": "display_data"
    },
    {
     "data": {
      "image/png": "[encoded data removed]",
      "text/plain": [
       "<Figure size 432x288 with 1 Axes>"
      ]
     },
     "metadata": {
      "needs_background": "light"
     },
     "output_type": "display_data"
    }
   ],
   "source": [
    "from scipy import stats\n",
    "from scipy.stats import norm, skew\n",
    "\n",
    "sns.distplot(df['Avg_number_likes'] , fit=norm);\n",
    "\n",
    "# Get the fitted parameters used by the function\n",
    "(mu, sigma) = norm.fit(df['Avg_number_likes'])\n",
    "print( '\\n mu = {:.2f} and sigma = {:.2f}\\n'.format(mu, sigma))\n",
    "\n",
    "#Now plot the distribution\n",
    "plt.legend(['Normal dist. ($\\mu=$ {:.2f} and $\\sigma=$ {:.2f} )'.format(mu, sigma)],\n",
    "            loc='best')\n",
    "plt.ylabel('Frequency')\n",
    "plt.title('Avg_number_likes distribution')\n",
    "\n",
    "#Get also the QQ-plot\n",
    "fig = plt.figure()\n",
    "res = stats.probplot(df['Avg_number_likes'], plot=plt)\n",
    "plt.show()"
   ]
  },
  {
   "cell_type": "markdown",
   "metadata": {},
   "source": [
    "### Log Transformation of Target Variable:"
   ]
  },
  {
   "cell_type": "code",
   "execution_count": 28,
   "metadata": {},
   "outputs": [
    {
     "name": "stdout",
     "output_type": "stream",
     "text": [
      "\n",
      " mu = 9.11 and sigma = 1.45\n",
      "\n"
     ]
    },
    {
     "data": {
      "image/png": "[encoded data removed]",
      "text/plain": [
       "<Figure size 432x288 with 1 Axes>"
      ]
     },
     "metadata": {
      "needs_background": "light"
     },
     "output_type": "display_data"
    },
    {
     "data": {
      "image/png": "[encoded data removed]",
      "text/plain": [
       "<Figure size 432x288 with 1 Axes>"
      ]
     },
     "metadata": {
      "needs_background": "light"
     },
     "output_type": "display_data"
    }
   ],
   "source": [
    "#We use the numpy fuction log1p which  applies log(1+x) to all elements of the column\n",
    "df[\"Avg_number_likes\"] = np.log1p(df[\"Avg_number_likes\"])\n",
    "\n",
    "#Check the new distribution \n",
    "sns.distplot(df['Avg_number_likes'] , fit=norm);\n",
    "\n",
    "# Get the fitted parameters used by the function\n",
    "(mu, sigma) = norm.fit(df['Avg_number_likes'])\n",
    "print( '\\n mu = {:.2f} and sigma = {:.2f}\\n'.format(mu, sigma))\n",
    "\n",
    "#Now plot the distribution\n",
    "plt.legend(['Normal dist. ($\\mu=$ {:.2f} and $\\sigma=$ {:.2f} )'.format(mu, sigma)],\n",
    "            loc='best')\n",
    "plt.ylabel('Frequency')\n",
    "plt.title('Avg_number_likes distribution')\n",
    "\n",
    "#Get also the QQ-plot\n",
    "fig = plt.figure()\n",
    "res = stats.probplot(df['Avg_number_likes'], plot=plt)\n",
    "plt.show()"
   ]
  },
  {
   "cell_type": "markdown",
   "metadata": {},
   "source": [
    "### Distribution and Statistics on Independent Features:"
   ]
  },
  {
   "cell_type": "code",
   "execution_count": 29,
   "metadata": {},
   "outputs": [
    {
     "name": "stdout",
     "output_type": "stream",
     "text": [
      "\n",
      " mu = 1396168.52 and sigma = 6878079.63\n",
      "\n"
     ]
    },
    {
     "data": {
      "image/png": "[encoded data removed]",
      "text/plain": [
       "<Figure size 432x288 with 1 Axes>"
      ]
     },
     "metadata": {
      "needs_background": "light"
     },
     "output_type": "display_data"
    },
    {
     "data": {
      "image/png": "[encoded data removed]",
      "text/plain": [
       "<Figure size 432x288 with 1 Axes>"
      ]
     },
     "metadata": {
      "needs_background": "light"
     },
     "output_type": "display_data"
    }
   ],
   "source": [
    "from scipy import stats\n",
    "from scipy.stats import norm, skew\n",
    "\n",
    "sns.distplot(df['numberFollowers'] , fit=norm);\n",
    "\n",
    "# Get the fitted parameters used by the function\n",
    "(mu, sigma) = norm.fit(df['numberFollowers'])\n",
    "print( '\\n mu = {:.2f} and sigma = {:.2f}\\n'.format(mu, sigma))\n",
    "\n",
    "#Now plot the distribution\n",
    "plt.legend(['Normal dist. ($\\mu=$ {:.2f} and $\\sigma=$ {:.2f} )'.format(mu, sigma)],\n",
    "            loc='best')\n",
    "plt.ylabel('Frequency')\n",
    "plt.title('numberFollowers distribution')\n",
    "\n",
    "#Get also the QQ-plot\n",
    "fig = plt.figure()\n",
    "res = stats.probplot(df['numberFollowers'], plot=plt)\n",
    "plt.show()"
   ]
  },
  {
   "cell_type": "markdown",
   "metadata": {},
   "source": [
    "### Log Transformation of Independent Features:"
   ]
  },
  {
   "cell_type": "code",
   "execution_count": 30,
   "metadata": {},
   "outputs": [
    {
     "name": "stdout",
     "output_type": "stream",
     "text": [
      "\n",
      " mu = 13.09 and sigma = 1.31\n",
      "\n"
     ]
    },
    {
     "data": {
      "image/png": "[encoded data removed]",
      "text/plain": [
       "<Figure size 432x288 with 1 Axes>"
      ]
     },
     "metadata": {
      "needs_background": "light"
     },
     "output_type": "display_data"
    },
    {
     "data": {
      "image/png": "[encoded data removed]",
      "text/plain": [
       "<Figure size 432x288 with 1 Axes>"
      ]
     },
     "metadata": {
      "needs_background": "light"
     },
     "output_type": "display_data"
    }
   ],
   "source": [
    "#We use the numpy fuction log1p which  applies log(1+x) to all elements of the column\n",
    "df[\"numberFollowers\"] = np.log1p(df[\"numberFollowers\"])\n",
    "\n",
    "#Check the new distribution \n",
    "sns.distplot(df['numberFollowers'] , fit=norm);\n",
    "\n",
    "# Get the fitted parameters used by the function\n",
    "(mu, sigma) = norm.fit(df['numberFollowers'])\n",
    "print( '\\n mu = {:.2f} and sigma = {:.2f}\\n'.format(mu, sigma))\n",
    "\n",
    "#Now plot the distribution\n",
    "plt.legend(['Normal dist. ($\\mu=$ {:.2f} and $\\sigma=$ {:.2f} )'.format(mu, sigma)],\n",
    "            loc='best')\n",
    "plt.ylabel('Frequency')\n",
    "plt.title('numberFollowers distribution')\n",
    "\n",
    "#Get also the QQ-plot\n",
    "fig = plt.figure()\n",
    "res = stats.probplot(df['numberFollowers'], plot=plt)\n",
    "plt.show()"
   ]
  },
  {
   "cell_type": "code",
   "execution_count": null,
   "metadata": {},
   "outputs": [],
   "source": []
  },
  {
   "cell_type": "code",
   "execution_count": 31,
   "metadata": {},
   "outputs": [
    {
     "name": "stdout",
     "output_type": "stream",
     "text": [
      "\n",
      " mu = 2345.45 and sigma = 2999.71\n",
      "\n"
     ]
    },
    {
     "data": {
      "image/png": "[encoded data removed]",
      "text/plain": [
       "<Figure size 432x288 with 1 Axes>"
      ]
     },
     "metadata": {
      "needs_background": "light"
     },
     "output_type": "display_data"
    },
    {
     "data": {
      "image/png": "[encoded data removed]",
      "text/plain": [
       "<Figure size 432x288 with 1 Axes>"
      ]
     },
     "metadata": {
      "needs_background": "light"
     },
     "output_type": "display_data"
    }
   ],
   "source": [
    "from scipy import stats\n",
    "from scipy.stats import norm, skew\n",
    "\n",
    "sns.distplot(df['numberPosts'] , fit=norm);\n",
    "\n",
    "# Get the fitted parameters used by the function\n",
    "(mu, sigma) = norm.fit(df['numberPosts'])\n",
    "print( '\\n mu = {:.2f} and sigma = {:.2f}\\n'.format(mu, sigma))\n",
    "\n",
    "#Now plot the distribution\n",
    "plt.legend(['Normal dist. ($\\mu=$ {:.2f} and $\\sigma=$ {:.2f} )'.format(mu, sigma)],\n",
    "            loc='best')\n",
    "plt.ylabel('Frequency')\n",
    "plt.title('numberPosts distribution')\n",
    "\n",
    "#Get also the QQ-plot\n",
    "fig = plt.figure()\n",
    "res = stats.probplot(df['numberPosts'], plot=plt)\n",
    "plt.show()"
   ]
  },
  {
   "cell_type": "markdown",
   "metadata": {},
   "source": [
    "### Log Transformation of Number_posts:"
   ]
  },
  {
   "cell_type": "code",
   "execution_count": 32,
   "metadata": {},
   "outputs": [
    {
     "name": "stdout",
     "output_type": "stream",
     "text": [
      "\n",
      " mu = 7.26 and sigma = 1.05\n",
      "\n"
     ]
    },
    {
     "data": {
      "image/png": "[encoded data removed]",
      "text/plain": [
       "<Figure size 432x288 with 1 Axes>"
      ]
     },
     "metadata": {
      "needs_background": "light"
     },
     "output_type": "display_data"
    },
    {
     "data": {
      "image/png": "[encoded data removed]",
      "text/plain": [
       "<Figure size 432x288 with 1 Axes>"
      ]
     },
     "metadata": {
      "needs_background": "light"
     },
     "output_type": "display_data"
    }
   ],
   "source": [
    "#We use the numpy fuction log1p which  applies log(1+x) to all elements of the column\n",
    "df[\"numberPosts\"] = np.log1p(df[\"numberPosts\"])\n",
    "\n",
    "#Check the new distribution \n",
    "sns.distplot(df['numberPosts'] , fit=norm);\n",
    "\n",
    "# Get the fitted parameters used by the function\n",
    "(mu, sigma) = norm.fit(df['numberPosts'])\n",
    "print( '\\n mu = {:.2f} and sigma = {:.2f}\\n'.format(mu, sigma))\n",
    "\n",
    "#Now plot the distribution\n",
    "plt.legend(['Normal dist. ($\\mu=$ {:.2f} and $\\sigma=$ {:.2f} )'.format(mu, sigma)],\n",
    "            loc='best')\n",
    "plt.ylabel('Frequency')\n",
    "plt.title('numberPosts distribution')\n",
    "\n",
    "#Get also the QQ-plot\n",
    "fig = plt.figure()\n",
    "res = stats.probplot(df['numberPosts'], plot=plt)\n",
    "plt.show()"
   ]
  },
  {
   "cell_type": "code",
   "execution_count": 33,
   "metadata": {},
   "outputs": [
    {
     "name": "stdout",
     "output_type": "stream",
     "text": [
      "\n",
      " mu = 2544.12 and sigma = 58283.31\n",
      "\n"
     ]
    },
    {
     "data": {
      "image/png": "[encoded data removed]",
      "text/plain": [
       "<Figure size 432x288 with 1 Axes>"
      ]
     },
     "metadata": {
      "needs_background": "light"
     },
     "output_type": "display_data"
    },
    {
     "data": {
      "image/png": "[encoded data removed]",
      "text/plain": [
       "<Figure size 432x288 with 1 Axes>"
      ]
     },
     "metadata": {
      "needs_background": "light"
     },
     "output_type": "display_data"
    }
   ],
   "source": [
    "from scipy import stats\n",
    "from scipy.stats import norm, skew\n",
    "\n",
    "sns.distplot(df['numberFollowing'] , fit=norm);\n",
    "\n",
    "# Get the fitted parameters used by the function\n",
    "(mu, sigma) = norm.fit(df['numberFollowing'])\n",
    "print( '\\n mu = {:.2f} and sigma = {:.2f}\\n'.format(mu, sigma))\n",
    "\n",
    "#Now plot the distribution\n",
    "plt.legend(['Normal dist. ($\\mu=$ {:.2f} and $\\sigma=$ {:.2f} )'.format(mu, sigma)],\n",
    "            loc='best')\n",
    "plt.ylabel('Frequency')\n",
    "plt.title('numberPosts distribution')\n",
    "\n",
    "#Get also the QQ-plot\n",
    "fig = plt.figure()\n",
    "res = stats.probplot(df['numberFollowing'], plot=plt)\n",
    "plt.show()"
   ]
  },
  {
   "cell_type": "code",
   "execution_count": 34,
   "metadata": {},
   "outputs": [
    {
     "name": "stdout",
     "output_type": "stream",
     "text": [
      "\n",
      " mu = 5.70 and sigma = 1.42\n",
      "\n"
     ]
    },
    {
     "data": {
      "image/png": "[encoded data removed]",
      "text/plain": [
       "<Figure size 432x288 with 1 Axes>"
      ]
     },
     "metadata": {
      "needs_background": "light"
     },
     "output_type": "display_data"
    },
    {
     "data": {
      "image/png": "[encoded data removed]",
      "text/plain": [
       "<Figure size 432x288 with 1 Axes>"
      ]
     },
     "metadata": {
      "needs_background": "light"
     },
     "output_type": "display_data"
    }
   ],
   "source": [
    "#We use the numpy fuction log1p which  applies log(1+x) to all elements of the column\n",
    "df[\"numberFollowing\"] = np.log1p(df[\"numberFollowing\"])\n",
    "\n",
    "#Check the new distribution \n",
    "sns.distplot(df['numberFollowing'] , fit=norm);\n",
    "\n",
    "# Get the fitted parameters used by the function\n",
    "(mu, sigma) = norm.fit(df['numberFollowing'])\n",
    "print( '\\n mu = {:.2f} and sigma = {:.2f}\\n'.format(mu, sigma))\n",
    "\n",
    "#Now plot the distribution\n",
    "plt.legend(['Normal dist. ($\\mu=$ {:.2f} and $\\sigma=$ {:.2f} )'.format(mu, sigma)],\n",
    "            loc='best')\n",
    "plt.ylabel('Frequency')\n",
    "plt.title('numberFollowing distribution')\n",
    "\n",
    "#Get also the QQ-plot\n",
    "fig = plt.figure()\n",
    "res = stats.probplot(df['numberFollowing'], plot=plt)\n",
    "plt.show()"
   ]
  },
  {
   "cell_type": "code",
   "execution_count": null,
   "metadata": {},
   "outputs": [],
   "source": []
  },
  {
   "cell_type": "code",
   "execution_count": 35,
   "metadata": {},
   "outputs": [
    {
     "data": {
      "text/plain": [
       "Index(['numberPosts', 'numberFollowing', 'numberFollowers', 'Avg_number_likes',\n",
       "       'Avg_number_tags'],\n",
       "      dtype='object')"
      ]
     },
     "execution_count": 35,
     "metadata": {},
     "output_type": "execute_result"
    }
   ],
   "source": [
    "df.columns"
   ]
  },
  {
   "cell_type": "markdown",
   "metadata": {},
   "source": [
    "### While, In web scrapping we willnot be able to extract all the contents except metadata in private profile so, we cannot take tags also in training model."
   ]
  },
  {
   "cell_type": "code",
   "execution_count": 36,
   "metadata": {},
   "outputs": [],
   "source": [
    "x= df[['numberPosts', 'numberFollowing', 'numberFollowers']]\n",
    "y = df.Avg_number_likes"
   ]
  },
  {
   "cell_type": "code",
   "execution_count": 37,
   "metadata": {},
   "outputs": [
    {
     "data": {
      "text/html": [
       "<div>\n",
       "<style scoped>\n",
       "    .dataframe tbody tr th:only-of-type {\n",
       "        vertical-align: middle;\n",
       "    }\n",
       "\n",
       "    .dataframe tbody tr th {\n",
       "        vertical-align: top;\n",
       "    }\n",
       "\n",
       "    .dataframe thead th {\n",
       "        text-align: right;\n",
       "    }\n",
       "</style>\n",
       "<table border=\"1\" class=\"dataframe\">\n",
       "  <thead>\n",
       "    <tr style=\"text-align: right;\">\n",
       "      <th></th>\n",
       "      <th>numberPosts</th>\n",
       "      <th>numberFollowing</th>\n",
       "      <th>numberFollowers</th>\n",
       "    </tr>\n",
       "  </thead>\n",
       "  <tbody>\n",
       "    <tr>\n",
       "      <th>0</th>\n",
       "      <td>8.004700</td>\n",
       "      <td>3.465736</td>\n",
       "      <td>14.144779</td>\n",
       "    </tr>\n",
       "    <tr>\n",
       "      <th>1</th>\n",
       "      <td>7.768956</td>\n",
       "      <td>5.252273</td>\n",
       "      <td>13.582477</td>\n",
       "    </tr>\n",
       "    <tr>\n",
       "      <th>2</th>\n",
       "      <td>7.775696</td>\n",
       "      <td>4.762174</td>\n",
       "      <td>11.795190</td>\n",
       "    </tr>\n",
       "    <tr>\n",
       "      <th>3</th>\n",
       "      <td>7.024649</td>\n",
       "      <td>7.228388</td>\n",
       "      <td>11.747104</td>\n",
       "    </tr>\n",
       "    <tr>\n",
       "      <th>4</th>\n",
       "      <td>8.116417</td>\n",
       "      <td>5.820083</td>\n",
       "      <td>12.905257</td>\n",
       "    </tr>\n",
       "    <tr>\n",
       "      <th>...</th>\n",
       "      <td>...</td>\n",
       "      <td>...</td>\n",
       "      <td>...</td>\n",
       "    </tr>\n",
       "    <tr>\n",
       "      <th>995</th>\n",
       "      <td>8.584478</td>\n",
       "      <td>6.715383</td>\n",
       "      <td>13.628035</td>\n",
       "    </tr>\n",
       "    <tr>\n",
       "      <th>996</th>\n",
       "      <td>6.944087</td>\n",
       "      <td>6.025866</td>\n",
       "      <td>12.795247</td>\n",
       "    </tr>\n",
       "    <tr>\n",
       "      <th>997</th>\n",
       "      <td>7.814400</td>\n",
       "      <td>4.897840</td>\n",
       "      <td>13.079683</td>\n",
       "    </tr>\n",
       "    <tr>\n",
       "      <th>998</th>\n",
       "      <td>7.577634</td>\n",
       "      <td>5.857933</td>\n",
       "      <td>12.187898</td>\n",
       "    </tr>\n",
       "    <tr>\n",
       "      <th>999</th>\n",
       "      <td>7.636270</td>\n",
       "      <td>7.820440</td>\n",
       "      <td>12.188809</td>\n",
       "    </tr>\n",
       "  </tbody>\n",
       "</table>\n",
       "<p>1000 rows × 3 columns</p>\n",
       "</div>"
      ],
      "text/plain": [
       "     numberPosts  numberFollowing  numberFollowers\n",
       "0       8.004700         3.465736        14.144779\n",
       "1       7.768956         5.252273        13.582477\n",
       "2       7.775696         4.762174        11.795190\n",
       "3       7.024649         7.228388        11.747104\n",
       "4       8.116417         5.820083        12.905257\n",
       "..           ...              ...              ...\n",
       "995     8.584478         6.715383        13.628035\n",
       "996     6.944087         6.025866        12.795247\n",
       "997     7.814400         4.897840        13.079683\n",
       "998     7.577634         5.857933        12.187898\n",
       "999     7.636270         7.820440        12.188809\n",
       "\n",
       "[1000 rows x 3 columns]"
      ]
     },
     "execution_count": 37,
     "metadata": {},
     "output_type": "execute_result"
    }
   ],
   "source": [
    "x"
   ]
  },
  {
   "cell_type": "code",
   "execution_count": 38,
   "metadata": {},
   "outputs": [],
   "source": [
    "from sklearn.model_selection import train_test_split"
   ]
  },
  {
   "cell_type": "code",
   "execution_count": 39,
   "metadata": {},
   "outputs": [],
   "source": [
    "x_train, x_test, y_train, y_test = train_test_split(x, y , test_size = 0.1, random_state =1)"
   ]
  },
  {
   "cell_type": "code",
   "execution_count": 40,
   "metadata": {},
   "outputs": [],
   "source": [
    "from sklearn.preprocessing import StandardScaler"
   ]
  },
  {
   "cell_type": "code",
   "execution_count": 41,
   "metadata": {},
   "outputs": [],
   "source": [
    "#sc = StandardScaler()\n",
    "#x_train = sc.fit_transform(x_train)\n",
    "#x_test = sc.transform(x_test)"
   ]
  },
  {
   "cell_type": "code",
   "execution_count": 42,
   "metadata": {},
   "outputs": [
    {
     "data": {
      "text/html": [
       "<div>\n",
       "<style scoped>\n",
       "    .dataframe tbody tr th:only-of-type {\n",
       "        vertical-align: middle;\n",
       "    }\n",
       "\n",
       "    .dataframe tbody tr th {\n",
       "        vertical-align: top;\n",
       "    }\n",
       "\n",
       "    .dataframe thead th {\n",
       "        text-align: right;\n",
       "    }\n",
       "</style>\n",
       "<table border=\"1\" class=\"dataframe\">\n",
       "  <thead>\n",
       "    <tr style=\"text-align: right;\">\n",
       "      <th></th>\n",
       "      <th>numberPosts</th>\n",
       "      <th>numberFollowing</th>\n",
       "      <th>numberFollowers</th>\n",
       "    </tr>\n",
       "  </thead>\n",
       "  <tbody>\n",
       "    <tr>\n",
       "      <th>335</th>\n",
       "      <td>9.048762</td>\n",
       "      <td>6.760415</td>\n",
       "      <td>12.728432</td>\n",
       "    </tr>\n",
       "    <tr>\n",
       "      <th>13</th>\n",
       "      <td>9.673508</td>\n",
       "      <td>6.030685</td>\n",
       "      <td>14.048421</td>\n",
       "    </tr>\n",
       "    <tr>\n",
       "      <th>911</th>\n",
       "      <td>6.047372</td>\n",
       "      <td>4.852030</td>\n",
       "      <td>11.915500</td>\n",
       "    </tr>\n",
       "    <tr>\n",
       "      <th>156</th>\n",
       "      <td>6.877296</td>\n",
       "      <td>8.348775</td>\n",
       "      <td>12.966470</td>\n",
       "    </tr>\n",
       "    <tr>\n",
       "      <th>428</th>\n",
       "      <td>7.443664</td>\n",
       "      <td>5.955837</td>\n",
       "      <td>15.354645</td>\n",
       "    </tr>\n",
       "    <tr>\n",
       "      <th>...</th>\n",
       "      <td>...</td>\n",
       "      <td>...</td>\n",
       "      <td>...</td>\n",
       "    </tr>\n",
       "    <tr>\n",
       "      <th>767</th>\n",
       "      <td>7.321850</td>\n",
       "      <td>6.924612</td>\n",
       "      <td>12.079449</td>\n",
       "    </tr>\n",
       "    <tr>\n",
       "      <th>72</th>\n",
       "      <td>6.920672</td>\n",
       "      <td>6.218600</td>\n",
       "      <td>11.835654</td>\n",
       "    </tr>\n",
       "    <tr>\n",
       "      <th>908</th>\n",
       "      <td>7.616776</td>\n",
       "      <td>6.416732</td>\n",
       "      <td>12.917379</td>\n",
       "    </tr>\n",
       "    <tr>\n",
       "      <th>235</th>\n",
       "      <td>8.261010</td>\n",
       "      <td>6.263398</td>\n",
       "      <td>14.676072</td>\n",
       "    </tr>\n",
       "    <tr>\n",
       "      <th>37</th>\n",
       "      <td>8.275886</td>\n",
       "      <td>3.970292</td>\n",
       "      <td>13.751787</td>\n",
       "    </tr>\n",
       "  </tbody>\n",
       "</table>\n",
       "<p>900 rows × 3 columns</p>\n",
       "</div>"
      ],
      "text/plain": [
       "     numberPosts  numberFollowing  numberFollowers\n",
       "335     9.048762         6.760415        12.728432\n",
       "13      9.673508         6.030685        14.048421\n",
       "911     6.047372         4.852030        11.915500\n",
       "156     6.877296         8.348775        12.966470\n",
       "428     7.443664         5.955837        15.354645\n",
       "..           ...              ...              ...\n",
       "767     7.321850         6.924612        12.079449\n",
       "72      6.920672         6.218600        11.835654\n",
       "908     7.616776         6.416732        12.917379\n",
       "235     8.261010         6.263398        14.676072\n",
       "37      8.275886         3.970292        13.751787\n",
       "\n",
       "[900 rows x 3 columns]"
      ]
     },
     "execution_count": 42,
     "metadata": {},
     "output_type": "execute_result"
    }
   ],
   "source": [
    "x_train"
   ]
  },
  {
   "cell_type": "markdown",
   "metadata": {},
   "source": [
    "## Model Building:"
   ]
  },
  {
   "cell_type": "code",
   "execution_count": 43,
   "metadata": {},
   "outputs": [
    {
     "name": "stdout",
     "output_type": "stream",
     "text": [
      "0.7368719868890838\n"
     ]
    }
   ],
   "source": [
    "from sklearn.linear_model import LinearRegression \n",
    "from sklearn.metrics import r2_score\n",
    "\n",
    "clf = LinearRegression(normalize=True)\n",
    "clf.fit(x_train,y_train)\n",
    "x_train_pred = clf.predict(x_train)\n",
    "y_pred = clf.predict(x_test)\n",
    "print(r2_score(y_test,y_pred))"
   ]
  },
  {
   "cell_type": "code",
   "execution_count": 44,
   "metadata": {},
   "outputs": [
    {
     "data": {
      "text/html": [
       "<div>\n",
       "<style scoped>\n",
       "    .dataframe tbody tr th:only-of-type {\n",
       "        vertical-align: middle;\n",
       "    }\n",
       "\n",
       "    .dataframe tbody tr th {\n",
       "        vertical-align: top;\n",
       "    }\n",
       "\n",
       "    .dataframe thead th {\n",
       "        text-align: right;\n",
       "    }\n",
       "</style>\n",
       "<table border=\"1\" class=\"dataframe\">\n",
       "  <thead>\n",
       "    <tr style=\"text-align: right;\">\n",
       "      <th></th>\n",
       "      <th>True_number_likes</th>\n",
       "      <th>Predicted_number_likes</th>\n",
       "    </tr>\n",
       "  </thead>\n",
       "  <tbody>\n",
       "    <tr>\n",
       "      <th>507</th>\n",
       "      <td>4518.705882</td>\n",
       "      <td>5961.796999</td>\n",
       "    </tr>\n",
       "    <tr>\n",
       "      <th>818</th>\n",
       "      <td>7146.823529</td>\n",
       "      <td>12501.966781</td>\n",
       "    </tr>\n",
       "    <tr>\n",
       "      <th>452</th>\n",
       "      <td>10618.647059</td>\n",
       "      <td>11890.811468</td>\n",
       "    </tr>\n",
       "    <tr>\n",
       "      <th>368</th>\n",
       "      <td>6145.588235</td>\n",
       "      <td>6044.673904</td>\n",
       "    </tr>\n",
       "    <tr>\n",
       "      <th>242</th>\n",
       "      <td>5700.411765</td>\n",
       "      <td>5035.191343</td>\n",
       "    </tr>\n",
       "    <tr>\n",
       "      <th>...</th>\n",
       "      <td>...</td>\n",
       "      <td>...</td>\n",
       "    </tr>\n",
       "    <tr>\n",
       "      <th>671</th>\n",
       "      <td>186636.941176</td>\n",
       "      <td>226976.870834</td>\n",
       "    </tr>\n",
       "    <tr>\n",
       "      <th>559</th>\n",
       "      <td>2569.882353</td>\n",
       "      <td>4484.059287</td>\n",
       "    </tr>\n",
       "    <tr>\n",
       "      <th>593</th>\n",
       "      <td>30206.823529</td>\n",
       "      <td>57792.367893</td>\n",
       "    </tr>\n",
       "    <tr>\n",
       "      <th>258</th>\n",
       "      <td>58358.941176</td>\n",
       "      <td>44764.737390</td>\n",
       "    </tr>\n",
       "    <tr>\n",
       "      <th>154</th>\n",
       "      <td>1784.647059</td>\n",
       "      <td>1815.615221</td>\n",
       "    </tr>\n",
       "  </tbody>\n",
       "</table>\n",
       "<p>100 rows × 2 columns</p>\n",
       "</div>"
      ],
      "text/plain": [
       "     True_number_likes  Predicted_number_likes\n",
       "507        4518.705882             5961.796999\n",
       "818        7146.823529            12501.966781\n",
       "452       10618.647059            11890.811468\n",
       "368        6145.588235             6044.673904\n",
       "242        5700.411765             5035.191343\n",
       "..                 ...                     ...\n",
       "671      186636.941176           226976.870834\n",
       "559        2569.882353             4484.059287\n",
       "593       30206.823529            57792.367893\n",
       "258       58358.941176            44764.737390\n",
       "154        1784.647059             1815.615221\n",
       "\n",
       "[100 rows x 2 columns]"
      ]
     },
     "execution_count": 44,
     "metadata": {},
     "output_type": "execute_result"
    }
   ],
   "source": [
    "verify = pd.DataFrame({'True_number_likes':np.exp(y_test),'Predicted_number_likes':np.exp(y_pred)})\n",
    "verify"
   ]
  },
  {
   "cell_type": "code",
   "execution_count": 45,
   "metadata": {},
   "outputs": [
    {
     "data": {
      "text/plain": [
       "<seaborn.axisgrid.FacetGrid at 0x2ae47ef5588>"
      ]
     },
     "execution_count": 45,
     "metadata": {},
     "output_type": "execute_result"
    },
    {
     "data": {
      "image/png": "[encoded data removed]",
      "text/plain": [
       "<Figure size 360x360 with 1 Axes>"
      ]
     },
     "metadata": {},
     "output_type": "display_data"
    }
   ],
   "source": [
    "sns.set_style('whitegrid') \n",
    "sns.lmplot(x = 'numberFollowers', y ='Avg_number_likes', data = df)\n"
   ]
  },
  {
   "cell_type": "code",
   "execution_count": 46,
   "metadata": {},
   "outputs": [],
   "source": [
    "from sklearn.ensemble import GradientBoostingRegressor"
   ]
  },
  {
   "cell_type": "code",
   "execution_count": 47,
   "metadata": {},
   "outputs": [
    {
     "name": "stdout",
     "output_type": "stream",
     "text": [
      "0.7294113096746588\n"
     ]
    }
   ],
   "source": [
    "reg = GradientBoostingRegressor(random_state=1)\n",
    "reg.fit(x_train,y_train)\n",
    "y_pred = reg.predict(x_test)\n",
    "print(r2_score(y_test, y_pred))"
   ]
  },
  {
   "cell_type": "code",
   "execution_count": 51,
   "metadata": {},
   "outputs": [],
   "source": [
    "from catboost import CatBoostRegressor"
   ]
  },
  {
   "cell_type": "code",
   "execution_count": 54,
   "metadata": {},
   "outputs": [
    {
     "name": "stdout",
     "output_type": "stream",
     "text": [
      "0:\tlearn: 1.3736063\ttotal: 146ms\tremaining: 7.16s\n",
      "1:\tlearn: 1.3127747\ttotal: 147ms\tremaining: 3.52s\n",
      "2:\tlearn: 1.2565389\ttotal: 147ms\tremaining: 2.31s\n",
      "3:\tlearn: 1.2107717\ttotal: 148ms\tremaining: 1.7s\n",
      "4:\tlearn: 1.1691751\ttotal: 149ms\tremaining: 1.34s\n",
      "5:\tlearn: 1.1240931\ttotal: 149ms\tremaining: 1.09s\n",
      "6:\tlearn: 1.0886356\ttotal: 150ms\tremaining: 921ms\n",
      "7:\tlearn: 1.0550410\ttotal: 151ms\tremaining: 790ms\n",
      "8:\tlearn: 1.0333197\ttotal: 151ms\tremaining: 688ms\n",
      "9:\tlearn: 1.0027128\ttotal: 152ms\tremaining: 606ms\n",
      "10:\tlearn: 0.9763761\ttotal: 152ms\tremaining: 540ms\n",
      "11:\tlearn: 0.9547252\ttotal: 153ms\tremaining: 484ms\n",
      "12:\tlearn: 0.9390105\ttotal: 153ms\tremaining: 436ms\n",
      "13:\tlearn: 0.9274756\ttotal: 154ms\tremaining: 395ms\n",
      "14:\tlearn: 0.9099316\ttotal: 155ms\tremaining: 361ms\n",
      "15:\tlearn: 0.8973557\ttotal: 155ms\tremaining: 330ms\n",
      "16:\tlearn: 0.8865232\ttotal: 156ms\tremaining: 303ms\n",
      "17:\tlearn: 0.8721084\ttotal: 157ms\tremaining: 278ms\n",
      "18:\tlearn: 0.8614653\ttotal: 157ms\tremaining: 256ms\n",
      "19:\tlearn: 0.8525465\ttotal: 158ms\tremaining: 236ms\n",
      "20:\tlearn: 0.8476359\ttotal: 158ms\tremaining: 218ms\n",
      "21:\tlearn: 0.8376056\ttotal: 159ms\tremaining: 202ms\n",
      "22:\tlearn: 0.8285617\ttotal: 159ms\tremaining: 187ms\n",
      "23:\tlearn: 0.8200880\ttotal: 160ms\tremaining: 173ms\n",
      "24:\tlearn: 0.8141854\ttotal: 161ms\tremaining: 161ms\n",
      "25:\tlearn: 0.8085719\ttotal: 161ms\tremaining: 149ms\n",
      "26:\tlearn: 0.8033654\ttotal: 162ms\tremaining: 138ms\n",
      "27:\tlearn: 0.7981558\ttotal: 163ms\tremaining: 128ms\n",
      "28:\tlearn: 0.7938214\ttotal: 163ms\tremaining: 118ms\n",
      "29:\tlearn: 0.7881666\ttotal: 164ms\tremaining: 109ms\n",
      "30:\tlearn: 0.7842774\ttotal: 164ms\tremaining: 101ms\n",
      "31:\tlearn: 0.7804554\ttotal: 165ms\tremaining: 92.6ms\n",
      "32:\tlearn: 0.7774628\ttotal: 165ms\tremaining: 85.2ms\n",
      "33:\tlearn: 0.7739124\ttotal: 166ms\tremaining: 78.1ms\n",
      "34:\tlearn: 0.7713959\ttotal: 166ms\tremaining: 71.3ms\n",
      "35:\tlearn: 0.7689000\ttotal: 167ms\tremaining: 64.9ms\n",
      "36:\tlearn: 0.7657818\ttotal: 168ms\tremaining: 58.9ms\n",
      "37:\tlearn: 0.7626831\ttotal: 168ms\tremaining: 53.1ms\n",
      "38:\tlearn: 0.7602409\ttotal: 169ms\tremaining: 47.6ms\n",
      "39:\tlearn: 0.7565745\ttotal: 169ms\tremaining: 42.3ms\n",
      "40:\tlearn: 0.7537343\ttotal: 170ms\tremaining: 37.3ms\n",
      "41:\tlearn: 0.7519837\ttotal: 170ms\tremaining: 32.5ms\n",
      "42:\tlearn: 0.7495225\ttotal: 171ms\tremaining: 27.9ms\n",
      "43:\tlearn: 0.7474086\ttotal: 172ms\tremaining: 23.4ms\n",
      "44:\tlearn: 0.7444202\ttotal: 172ms\tremaining: 19.2ms\n",
      "45:\tlearn: 0.7426437\ttotal: 173ms\tremaining: 15ms\n",
      "46:\tlearn: 0.7408332\ttotal: 174ms\tremaining: 11.1ms\n",
      "47:\tlearn: 0.7402293\ttotal: 174ms\tremaining: 7.25ms\n",
      "48:\tlearn: 0.7389512\ttotal: 175ms\tremaining: 3.56ms\n",
      "49:\tlearn: 0.7373387\ttotal: 175ms\tremaining: 0us\n",
      "0.7268329544932792\n"
     ]
    }
   ],
   "source": [
    "model=CatBoostRegressor(iterations=50, depth=3, learning_rate=0.1, loss_function='RMSE')\n",
    "model.fit(x_train,y_train)\n",
    "y_pred = model.predict(x_test)\n",
    "print(r2_score(y_test, y_pred))"
   ]
  },
  {
   "cell_type": "code",
   "execution_count": 55,
   "metadata": {},
   "outputs": [],
   "source": [
    "from lightgbm import LGBMRegressor"
   ]
  },
  {
   "cell_type": "code",
   "execution_count": 56,
   "metadata": {},
   "outputs": [
    {
     "name": "stdout",
     "output_type": "stream",
     "text": [
      "0.6974712917035383\n"
     ]
    }
   ],
   "source": [
    "model = LGBMRegressor()\n",
    "model.fit(x_train,y_train)\n",
    "y_pred = model.predict(x_test)\n",
    "print(r2_score(y_test, y_pred))"
   ]
  },
  {
   "cell_type": "code",
   "execution_count": null,
   "metadata": {},
   "outputs": [],
   "source": []
  },
  {
   "cell_type": "code",
   "execution_count": null,
   "metadata": {},
   "outputs": [],
   "source": []
  }
 ],
 "metadata": {
  "kernelspec": {
   "display_name": "Python 3",
   "language": "python",
   "name": "python3"
  },
  "language_info": {
   "codemirror_mode": {
    "name": "ipython",
    "version": 3
   },
   "file_extension": ".py",
   "mimetype": "text/x-python",
   "name": "python",
   "nbconvert_exporter": "python",
   "pygments_lexer": "ipython3",
   "version": "3.7.6"
  }
 },
 "nbformat": 4,
 "nbformat_minor": 4
}
